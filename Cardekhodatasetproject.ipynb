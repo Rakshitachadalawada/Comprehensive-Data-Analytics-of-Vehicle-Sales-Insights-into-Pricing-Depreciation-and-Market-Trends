{
 "cells": [
  {
   "cell_type": "code",
   "execution_count": 2,
   "id": "3fbaad87",
   "metadata": {},
   "outputs": [],
   "source": [
    "import pandas as pd"
   ]
  },
  {
   "cell_type": "code",
   "execution_count": 3,
   "id": "8afddf89",
   "metadata": {},
   "outputs": [],
   "source": [
    "df=pd.read_csv('car_Dekho_DA (1).csv')"
   ]
  },
  {
   "cell_type": "code",
   "execution_count": 3,
   "id": "061e61d6",
   "metadata": {},
   "outputs": [
    {
     "data": {
      "text/html": [
       "<div>\n",
       "<style scoped>\n",
       "    .dataframe tbody tr th:only-of-type {\n",
       "        vertical-align: middle;\n",
       "    }\n",
       "\n",
       "    .dataframe tbody tr th {\n",
       "        vertical-align: top;\n",
       "    }\n",
       "\n",
       "    .dataframe thead th {\n",
       "        text-align: right;\n",
       "    }\n",
       "</style>\n",
       "<table border=\"1\" class=\"dataframe\">\n",
       "  <thead>\n",
       "    <tr style=\"text-align: right;\">\n",
       "      <th></th>\n",
       "      <th>Car_Name</th>\n",
       "      <th>Year</th>\n",
       "      <th>Selling_Price</th>\n",
       "      <th>Present_Price</th>\n",
       "      <th>Kms_Driven</th>\n",
       "      <th>Fuel_Type</th>\n",
       "      <th>Seller_Type</th>\n",
       "      <th>Transmission</th>\n",
       "      <th>Owner</th>\n",
       "    </tr>\n",
       "  </thead>\n",
       "  <tbody>\n",
       "    <tr>\n",
       "      <th>0</th>\n",
       "      <td>ritz</td>\n",
       "      <td>2014</td>\n",
       "      <td>3.35</td>\n",
       "      <td>5.59</td>\n",
       "      <td>27000</td>\n",
       "      <td>Petrol</td>\n",
       "      <td>Dealer</td>\n",
       "      <td>Manual</td>\n",
       "      <td>0</td>\n",
       "    </tr>\n",
       "    <tr>\n",
       "      <th>1</th>\n",
       "      <td>sx4</td>\n",
       "      <td>2013</td>\n",
       "      <td>4.75</td>\n",
       "      <td>9.54</td>\n",
       "      <td>43000</td>\n",
       "      <td>Diesel</td>\n",
       "      <td>Dealer</td>\n",
       "      <td>Manual</td>\n",
       "      <td>0</td>\n",
       "    </tr>\n",
       "    <tr>\n",
       "      <th>2</th>\n",
       "      <td>ciaz</td>\n",
       "      <td>2017</td>\n",
       "      <td>7.25</td>\n",
       "      <td>9.85</td>\n",
       "      <td>6900</td>\n",
       "      <td>Petrol</td>\n",
       "      <td>Dealer</td>\n",
       "      <td>Manual</td>\n",
       "      <td>0</td>\n",
       "    </tr>\n",
       "    <tr>\n",
       "      <th>3</th>\n",
       "      <td>wagon r</td>\n",
       "      <td>2011</td>\n",
       "      <td>2.85</td>\n",
       "      <td>4.15</td>\n",
       "      <td>5200</td>\n",
       "      <td>Petrol</td>\n",
       "      <td>Dealer</td>\n",
       "      <td>Manual</td>\n",
       "      <td>0</td>\n",
       "    </tr>\n",
       "    <tr>\n",
       "      <th>4</th>\n",
       "      <td>swift</td>\n",
       "      <td>2014</td>\n",
       "      <td>4.60</td>\n",
       "      <td>6.87</td>\n",
       "      <td>42450</td>\n",
       "      <td>Diesel</td>\n",
       "      <td>Dealer</td>\n",
       "      <td>Manual</td>\n",
       "      <td>0</td>\n",
       "    </tr>\n",
       "    <tr>\n",
       "      <th>...</th>\n",
       "      <td>...</td>\n",
       "      <td>...</td>\n",
       "      <td>...</td>\n",
       "      <td>...</td>\n",
       "      <td>...</td>\n",
       "      <td>...</td>\n",
       "      <td>...</td>\n",
       "      <td>...</td>\n",
       "      <td>...</td>\n",
       "    </tr>\n",
       "    <tr>\n",
       "      <th>296</th>\n",
       "      <td>city</td>\n",
       "      <td>2016</td>\n",
       "      <td>9.50</td>\n",
       "      <td>11.60</td>\n",
       "      <td>33988</td>\n",
       "      <td>Diesel</td>\n",
       "      <td>Dealer</td>\n",
       "      <td>Manual</td>\n",
       "      <td>0</td>\n",
       "    </tr>\n",
       "    <tr>\n",
       "      <th>297</th>\n",
       "      <td>brio</td>\n",
       "      <td>2015</td>\n",
       "      <td>4.00</td>\n",
       "      <td>5.90</td>\n",
       "      <td>60000</td>\n",
       "      <td>Petrol</td>\n",
       "      <td>Dealer</td>\n",
       "      <td>Manual</td>\n",
       "      <td>0</td>\n",
       "    </tr>\n",
       "    <tr>\n",
       "      <th>298</th>\n",
       "      <td>city</td>\n",
       "      <td>2009</td>\n",
       "      <td>3.35</td>\n",
       "      <td>11.00</td>\n",
       "      <td>87934</td>\n",
       "      <td>Petrol</td>\n",
       "      <td>Dealer</td>\n",
       "      <td>Manual</td>\n",
       "      <td>0</td>\n",
       "    </tr>\n",
       "    <tr>\n",
       "      <th>299</th>\n",
       "      <td>city</td>\n",
       "      <td>2017</td>\n",
       "      <td>11.50</td>\n",
       "      <td>12.50</td>\n",
       "      <td>9000</td>\n",
       "      <td>Diesel</td>\n",
       "      <td>Dealer</td>\n",
       "      <td>Manual</td>\n",
       "      <td>0</td>\n",
       "    </tr>\n",
       "    <tr>\n",
       "      <th>300</th>\n",
       "      <td>brio</td>\n",
       "      <td>2016</td>\n",
       "      <td>5.30</td>\n",
       "      <td>5.90</td>\n",
       "      <td>5464</td>\n",
       "      <td>Petrol</td>\n",
       "      <td>Dealer</td>\n",
       "      <td>Manual</td>\n",
       "      <td>0</td>\n",
       "    </tr>\n",
       "  </tbody>\n",
       "</table>\n",
       "<p>301 rows × 9 columns</p>\n",
       "</div>"
      ],
      "text/plain": [
       "    Car_Name  Year  Selling_Price  Present_Price  Kms_Driven Fuel_Type  \\\n",
       "0       ritz  2014           3.35           5.59       27000    Petrol   \n",
       "1        sx4  2013           4.75           9.54       43000    Diesel   \n",
       "2       ciaz  2017           7.25           9.85        6900    Petrol   \n",
       "3    wagon r  2011           2.85           4.15        5200    Petrol   \n",
       "4      swift  2014           4.60           6.87       42450    Diesel   \n",
       "..       ...   ...            ...            ...         ...       ...   \n",
       "296     city  2016           9.50          11.60       33988    Diesel   \n",
       "297     brio  2015           4.00           5.90       60000    Petrol   \n",
       "298     city  2009           3.35          11.00       87934    Petrol   \n",
       "299     city  2017          11.50          12.50        9000    Diesel   \n",
       "300     brio  2016           5.30           5.90        5464    Petrol   \n",
       "\n",
       "    Seller_Type Transmission  Owner  \n",
       "0        Dealer       Manual      0  \n",
       "1        Dealer       Manual      0  \n",
       "2        Dealer       Manual      0  \n",
       "3        Dealer       Manual      0  \n",
       "4        Dealer       Manual      0  \n",
       "..          ...          ...    ...  \n",
       "296      Dealer       Manual      0  \n",
       "297      Dealer       Manual      0  \n",
       "298      Dealer       Manual      0  \n",
       "299      Dealer       Manual      0  \n",
       "300      Dealer       Manual      0  \n",
       "\n",
       "[301 rows x 9 columns]"
      ]
     },
     "execution_count": 3,
     "metadata": {},
     "output_type": "execute_result"
    }
   ],
   "source": [
    "df"
   ]
  },
  {
   "cell_type": "code",
   "execution_count": 4,
   "id": "640e8f09",
   "metadata": {
    "scrolled": true
   },
   "outputs": [
    {
     "data": {
      "text/html": [
       "<div>\n",
       "<style scoped>\n",
       "    .dataframe tbody tr th:only-of-type {\n",
       "        vertical-align: middle;\n",
       "    }\n",
       "\n",
       "    .dataframe tbody tr th {\n",
       "        vertical-align: top;\n",
       "    }\n",
       "\n",
       "    .dataframe thead th {\n",
       "        text-align: right;\n",
       "    }\n",
       "</style>\n",
       "<table border=\"1\" class=\"dataframe\">\n",
       "  <thead>\n",
       "    <tr style=\"text-align: right;\">\n",
       "      <th></th>\n",
       "      <th>Car_Name</th>\n",
       "      <th>Year</th>\n",
       "      <th>Selling_Price</th>\n",
       "      <th>Present_Price</th>\n",
       "      <th>Kms_Driven</th>\n",
       "      <th>Fuel_Type</th>\n",
       "      <th>Seller_Type</th>\n",
       "      <th>Transmission</th>\n",
       "      <th>Owner</th>\n",
       "    </tr>\n",
       "  </thead>\n",
       "  <tbody>\n",
       "    <tr>\n",
       "      <th>0</th>\n",
       "      <td>ritz</td>\n",
       "      <td>2014</td>\n",
       "      <td>3.35</td>\n",
       "      <td>5.59</td>\n",
       "      <td>27000</td>\n",
       "      <td>Petrol</td>\n",
       "      <td>Dealer</td>\n",
       "      <td>Manual</td>\n",
       "      <td>0</td>\n",
       "    </tr>\n",
       "    <tr>\n",
       "      <th>1</th>\n",
       "      <td>sx4</td>\n",
       "      <td>2013</td>\n",
       "      <td>4.75</td>\n",
       "      <td>9.54</td>\n",
       "      <td>43000</td>\n",
       "      <td>Diesel</td>\n",
       "      <td>Dealer</td>\n",
       "      <td>Manual</td>\n",
       "      <td>0</td>\n",
       "    </tr>\n",
       "    <tr>\n",
       "      <th>2</th>\n",
       "      <td>ciaz</td>\n",
       "      <td>2017</td>\n",
       "      <td>7.25</td>\n",
       "      <td>9.85</td>\n",
       "      <td>6900</td>\n",
       "      <td>Petrol</td>\n",
       "      <td>Dealer</td>\n",
       "      <td>Manual</td>\n",
       "      <td>0</td>\n",
       "    </tr>\n",
       "    <tr>\n",
       "      <th>3</th>\n",
       "      <td>wagon r</td>\n",
       "      <td>2011</td>\n",
       "      <td>2.85</td>\n",
       "      <td>4.15</td>\n",
       "      <td>5200</td>\n",
       "      <td>Petrol</td>\n",
       "      <td>Dealer</td>\n",
       "      <td>Manual</td>\n",
       "      <td>0</td>\n",
       "    </tr>\n",
       "    <tr>\n",
       "      <th>4</th>\n",
       "      <td>swift</td>\n",
       "      <td>2014</td>\n",
       "      <td>4.60</td>\n",
       "      <td>6.87</td>\n",
       "      <td>42450</td>\n",
       "      <td>Diesel</td>\n",
       "      <td>Dealer</td>\n",
       "      <td>Manual</td>\n",
       "      <td>0</td>\n",
       "    </tr>\n",
       "  </tbody>\n",
       "</table>\n",
       "</div>"
      ],
      "text/plain": [
       "  Car_Name  Year  Selling_Price  Present_Price  Kms_Driven Fuel_Type  \\\n",
       "0     ritz  2014           3.35           5.59       27000    Petrol   \n",
       "1      sx4  2013           4.75           9.54       43000    Diesel   \n",
       "2     ciaz  2017           7.25           9.85        6900    Petrol   \n",
       "3  wagon r  2011           2.85           4.15        5200    Petrol   \n",
       "4    swift  2014           4.60           6.87       42450    Diesel   \n",
       "\n",
       "  Seller_Type Transmission  Owner  \n",
       "0      Dealer       Manual      0  \n",
       "1      Dealer       Manual      0  \n",
       "2      Dealer       Manual      0  \n",
       "3      Dealer       Manual      0  \n",
       "4      Dealer       Manual      0  "
      ]
     },
     "execution_count": 4,
     "metadata": {},
     "output_type": "execute_result"
    }
   ],
   "source": [
    "df.head()"
   ]
  },
  {
   "cell_type": "code",
   "execution_count": null,
   "id": "b6c46b1a",
   "metadata": {},
   "outputs": [],
   "source": []
  },
  {
   "cell_type": "markdown",
   "id": "d4398ff5",
   "metadata": {},
   "source": [
    "# 1)From which manufacturing year to which manufacturing year vehicles are present in this data ?"
   ]
  },
  {
   "cell_type": "code",
   "execution_count": 6,
   "id": "b3000c05",
   "metadata": {
    "scrolled": true
   },
   "outputs": [
    {
     "name": "stdout",
     "output_type": "stream",
     "text": [
      "the year range is from 2003 to 2018\n"
     ]
    }
   ],
   "source": [
    "minn=df['Year'].min()\n",
    "maxx=df['Year'].max()\n",
    "print(\"the year range is from\",minn,\"to\",maxx)"
   ]
  },
  {
   "cell_type": "markdown",
   "id": "fae25a3a",
   "metadata": {},
   "source": [
    "# 2)What is the lowest price to which a vehicle is sold ?"
   ]
  },
  {
   "cell_type": "code",
   "execution_count": 8,
   "id": "0af6df1e",
   "metadata": {},
   "outputs": [
    {
     "name": "stdout",
     "output_type": "stream",
     "text": [
      "the lowest price to which a vehicle is sold is 0.1 lakhs\n"
     ]
    }
   ],
   "source": [
    "low=df['Selling_Price'].min()\n",
    "print(\"the lowest price to which a vehicle is sold is\",low,\"lakhs\")"
   ]
  },
  {
   "cell_type": "code",
   "execution_count": 9,
   "id": "8bb9091e",
   "metadata": {},
   "outputs": [
    {
     "data": {
      "text/html": [
       "<div>\n",
       "<style scoped>\n",
       "    .dataframe tbody tr th:only-of-type {\n",
       "        vertical-align: middle;\n",
       "    }\n",
       "\n",
       "    .dataframe tbody tr th {\n",
       "        vertical-align: top;\n",
       "    }\n",
       "\n",
       "    .dataframe thead th {\n",
       "        text-align: right;\n",
       "    }\n",
       "</style>\n",
       "<table border=\"1\" class=\"dataframe\">\n",
       "  <thead>\n",
       "    <tr style=\"text-align: right;\">\n",
       "      <th></th>\n",
       "      <th>Year</th>\n",
       "      <th>Selling_Price</th>\n",
       "      <th>Present_Price</th>\n",
       "      <th>Kms_Driven</th>\n",
       "      <th>Owner</th>\n",
       "    </tr>\n",
       "  </thead>\n",
       "  <tbody>\n",
       "    <tr>\n",
       "      <th>count</th>\n",
       "      <td>301.000000</td>\n",
       "      <td>301.000000</td>\n",
       "      <td>301.000000</td>\n",
       "      <td>301.000000</td>\n",
       "      <td>301.000000</td>\n",
       "    </tr>\n",
       "    <tr>\n",
       "      <th>mean</th>\n",
       "      <td>2013.627907</td>\n",
       "      <td>4.661296</td>\n",
       "      <td>7.628472</td>\n",
       "      <td>36947.205980</td>\n",
       "      <td>0.043189</td>\n",
       "    </tr>\n",
       "    <tr>\n",
       "      <th>std</th>\n",
       "      <td>2.891554</td>\n",
       "      <td>5.082812</td>\n",
       "      <td>8.644115</td>\n",
       "      <td>38886.883882</td>\n",
       "      <td>0.247915</td>\n",
       "    </tr>\n",
       "    <tr>\n",
       "      <th>min</th>\n",
       "      <td>2003.000000</td>\n",
       "      <td>0.100000</td>\n",
       "      <td>0.320000</td>\n",
       "      <td>500.000000</td>\n",
       "      <td>0.000000</td>\n",
       "    </tr>\n",
       "    <tr>\n",
       "      <th>25%</th>\n",
       "      <td>2012.000000</td>\n",
       "      <td>0.900000</td>\n",
       "      <td>1.200000</td>\n",
       "      <td>15000.000000</td>\n",
       "      <td>0.000000</td>\n",
       "    </tr>\n",
       "    <tr>\n",
       "      <th>50%</th>\n",
       "      <td>2014.000000</td>\n",
       "      <td>3.600000</td>\n",
       "      <td>6.400000</td>\n",
       "      <td>32000.000000</td>\n",
       "      <td>0.000000</td>\n",
       "    </tr>\n",
       "    <tr>\n",
       "      <th>75%</th>\n",
       "      <td>2016.000000</td>\n",
       "      <td>6.000000</td>\n",
       "      <td>9.900000</td>\n",
       "      <td>48767.000000</td>\n",
       "      <td>0.000000</td>\n",
       "    </tr>\n",
       "    <tr>\n",
       "      <th>max</th>\n",
       "      <td>2018.000000</td>\n",
       "      <td>35.000000</td>\n",
       "      <td>92.600000</td>\n",
       "      <td>500000.000000</td>\n",
       "      <td>3.000000</td>\n",
       "    </tr>\n",
       "  </tbody>\n",
       "</table>\n",
       "</div>"
      ],
      "text/plain": [
       "              Year  Selling_Price  Present_Price     Kms_Driven       Owner\n",
       "count   301.000000     301.000000     301.000000     301.000000  301.000000\n",
       "mean   2013.627907       4.661296       7.628472   36947.205980    0.043189\n",
       "std       2.891554       5.082812       8.644115   38886.883882    0.247915\n",
       "min    2003.000000       0.100000       0.320000     500.000000    0.000000\n",
       "25%    2012.000000       0.900000       1.200000   15000.000000    0.000000\n",
       "50%    2014.000000       3.600000       6.400000   32000.000000    0.000000\n",
       "75%    2016.000000       6.000000       9.900000   48767.000000    0.000000\n",
       "max    2018.000000      35.000000      92.600000  500000.000000    3.000000"
      ]
     },
     "execution_count": 9,
     "metadata": {},
     "output_type": "execute_result"
    }
   ],
   "source": [
    "df.describe()"
   ]
  },
  {
   "cell_type": "markdown",
   "id": "19955edf",
   "metadata": {},
   "source": [
    "# 3)What is the highest price to which a vehicle is sold ?"
   ]
  },
  {
   "cell_type": "code",
   "execution_count": 11,
   "id": "c9ccb797",
   "metadata": {},
   "outputs": [
    {
     "name": "stdout",
     "output_type": "stream",
     "text": [
      "highest price to which a vehicle is sold 35.0 lakhs\n"
     ]
    }
   ],
   "source": [
    "price=df['Selling_Price'].max()\n",
    "print(\"highest price to which a vehicle is sold\",price,\"lakhs\")"
   ]
  },
  {
   "cell_type": "markdown",
   "id": "3d8003e3",
   "metadata": {},
   "source": [
    "# 4)How many records are there in this data ?"
   ]
  },
  {
   "cell_type": "code",
   "execution_count": 13,
   "id": "85579c18",
   "metadata": {},
   "outputs": [
    {
     "name": "stdout",
     "output_type": "stream",
     "text": [
      "no.of records= 301\n"
     ]
    }
   ],
   "source": [
    "a=df.shape\n",
    "print(\"no.of records=\",a[0])"
   ]
  },
  {
   "cell_type": "code",
   "execution_count": 16,
   "id": "66191be5",
   "metadata": {},
   "outputs": [
    {
     "data": {
      "text/html": [
       "<div>\n",
       "<style scoped>\n",
       "    .dataframe tbody tr th:only-of-type {\n",
       "        vertical-align: middle;\n",
       "    }\n",
       "\n",
       "    .dataframe tbody tr th {\n",
       "        vertical-align: top;\n",
       "    }\n",
       "\n",
       "    .dataframe thead th {\n",
       "        text-align: right;\n",
       "    }\n",
       "</style>\n",
       "<table border=\"1\" class=\"dataframe\">\n",
       "  <thead>\n",
       "    <tr style=\"text-align: right;\">\n",
       "      <th></th>\n",
       "      <th>Car_Name</th>\n",
       "      <th>Year</th>\n",
       "      <th>Selling_Price</th>\n",
       "      <th>Present_Price</th>\n",
       "      <th>Kms_Driven</th>\n",
       "      <th>Fuel_Type</th>\n",
       "      <th>Seller_Type</th>\n",
       "      <th>Transmission</th>\n",
       "      <th>Owner</th>\n",
       "    </tr>\n",
       "  </thead>\n",
       "  <tbody>\n",
       "    <tr>\n",
       "      <th>0</th>\n",
       "      <td>ritz</td>\n",
       "      <td>2014</td>\n",
       "      <td>3.35</td>\n",
       "      <td>5.59</td>\n",
       "      <td>27000</td>\n",
       "      <td>Petrol</td>\n",
       "      <td>Dealer</td>\n",
       "      <td>Manual</td>\n",
       "      <td>0</td>\n",
       "    </tr>\n",
       "    <tr>\n",
       "      <th>1</th>\n",
       "      <td>sx4</td>\n",
       "      <td>2013</td>\n",
       "      <td>4.75</td>\n",
       "      <td>9.54</td>\n",
       "      <td>43000</td>\n",
       "      <td>Diesel</td>\n",
       "      <td>Dealer</td>\n",
       "      <td>Manual</td>\n",
       "      <td>0</td>\n",
       "    </tr>\n",
       "    <tr>\n",
       "      <th>2</th>\n",
       "      <td>ciaz</td>\n",
       "      <td>2017</td>\n",
       "      <td>7.25</td>\n",
       "      <td>9.85</td>\n",
       "      <td>6900</td>\n",
       "      <td>Petrol</td>\n",
       "      <td>Dealer</td>\n",
       "      <td>Manual</td>\n",
       "      <td>0</td>\n",
       "    </tr>\n",
       "    <tr>\n",
       "      <th>3</th>\n",
       "      <td>wagon r</td>\n",
       "      <td>2011</td>\n",
       "      <td>2.85</td>\n",
       "      <td>4.15</td>\n",
       "      <td>5200</td>\n",
       "      <td>Petrol</td>\n",
       "      <td>Dealer</td>\n",
       "      <td>Manual</td>\n",
       "      <td>0</td>\n",
       "    </tr>\n",
       "    <tr>\n",
       "      <th>4</th>\n",
       "      <td>swift</td>\n",
       "      <td>2014</td>\n",
       "      <td>4.60</td>\n",
       "      <td>6.87</td>\n",
       "      <td>42450</td>\n",
       "      <td>Diesel</td>\n",
       "      <td>Dealer</td>\n",
       "      <td>Manual</td>\n",
       "      <td>0</td>\n",
       "    </tr>\n",
       "  </tbody>\n",
       "</table>\n",
       "</div>"
      ],
      "text/plain": [
       "  Car_Name  Year  Selling_Price  Present_Price  Kms_Driven Fuel_Type  \\\n",
       "0     ritz  2014           3.35           5.59       27000    Petrol   \n",
       "1      sx4  2013           4.75           9.54       43000    Diesel   \n",
       "2     ciaz  2017           7.25           9.85        6900    Petrol   \n",
       "3  wagon r  2011           2.85           4.15        5200    Petrol   \n",
       "4    swift  2014           4.60           6.87       42450    Diesel   \n",
       "\n",
       "  Seller_Type Transmission  Owner  \n",
       "0      Dealer       Manual      0  \n",
       "1      Dealer       Manual      0  \n",
       "2      Dealer       Manual      0  \n",
       "3      Dealer       Manual      0  \n",
       "4      Dealer       Manual      0  "
      ]
     },
     "execution_count": 16,
     "metadata": {},
     "output_type": "execute_result"
    }
   ],
   "source": [
    "df.head()"
   ]
  },
  {
   "cell_type": "code",
   "execution_count": 17,
   "id": "2ea5d6e9",
   "metadata": {},
   "outputs": [
    {
     "data": {
      "text/html": [
       "<div>\n",
       "<style scoped>\n",
       "    .dataframe tbody tr th:only-of-type {\n",
       "        vertical-align: middle;\n",
       "    }\n",
       "\n",
       "    .dataframe tbody tr th {\n",
       "        vertical-align: top;\n",
       "    }\n",
       "\n",
       "    .dataframe thead th {\n",
       "        text-align: right;\n",
       "    }\n",
       "</style>\n",
       "<table border=\"1\" class=\"dataframe\">\n",
       "  <thead>\n",
       "    <tr style=\"text-align: right;\">\n",
       "      <th></th>\n",
       "      <th>Car_Name</th>\n",
       "      <th>Year</th>\n",
       "      <th>Selling_Price</th>\n",
       "      <th>Present_Price</th>\n",
       "      <th>Kms_Driven</th>\n",
       "      <th>Fuel_Type</th>\n",
       "      <th>Seller_Type</th>\n",
       "      <th>Transmission</th>\n",
       "      <th>Owner</th>\n",
       "    </tr>\n",
       "  </thead>\n",
       "  <tbody>\n",
       "    <tr>\n",
       "      <th>296</th>\n",
       "      <td>city</td>\n",
       "      <td>2016</td>\n",
       "      <td>9.50</td>\n",
       "      <td>11.6</td>\n",
       "      <td>33988</td>\n",
       "      <td>Diesel</td>\n",
       "      <td>Dealer</td>\n",
       "      <td>Manual</td>\n",
       "      <td>0</td>\n",
       "    </tr>\n",
       "    <tr>\n",
       "      <th>297</th>\n",
       "      <td>brio</td>\n",
       "      <td>2015</td>\n",
       "      <td>4.00</td>\n",
       "      <td>5.9</td>\n",
       "      <td>60000</td>\n",
       "      <td>Petrol</td>\n",
       "      <td>Dealer</td>\n",
       "      <td>Manual</td>\n",
       "      <td>0</td>\n",
       "    </tr>\n",
       "    <tr>\n",
       "      <th>298</th>\n",
       "      <td>city</td>\n",
       "      <td>2009</td>\n",
       "      <td>3.35</td>\n",
       "      <td>11.0</td>\n",
       "      <td>87934</td>\n",
       "      <td>Petrol</td>\n",
       "      <td>Dealer</td>\n",
       "      <td>Manual</td>\n",
       "      <td>0</td>\n",
       "    </tr>\n",
       "    <tr>\n",
       "      <th>299</th>\n",
       "      <td>city</td>\n",
       "      <td>2017</td>\n",
       "      <td>11.50</td>\n",
       "      <td>12.5</td>\n",
       "      <td>9000</td>\n",
       "      <td>Diesel</td>\n",
       "      <td>Dealer</td>\n",
       "      <td>Manual</td>\n",
       "      <td>0</td>\n",
       "    </tr>\n",
       "    <tr>\n",
       "      <th>300</th>\n",
       "      <td>brio</td>\n",
       "      <td>2016</td>\n",
       "      <td>5.30</td>\n",
       "      <td>5.9</td>\n",
       "      <td>5464</td>\n",
       "      <td>Petrol</td>\n",
       "      <td>Dealer</td>\n",
       "      <td>Manual</td>\n",
       "      <td>0</td>\n",
       "    </tr>\n",
       "  </tbody>\n",
       "</table>\n",
       "</div>"
      ],
      "text/plain": [
       "    Car_Name  Year  Selling_Price  Present_Price  Kms_Driven Fuel_Type  \\\n",
       "296     city  2016           9.50           11.6       33988    Diesel   \n",
       "297     brio  2015           4.00            5.9       60000    Petrol   \n",
       "298     city  2009           3.35           11.0       87934    Petrol   \n",
       "299     city  2017          11.50           12.5        9000    Diesel   \n",
       "300     brio  2016           5.30            5.9        5464    Petrol   \n",
       "\n",
       "    Seller_Type Transmission  Owner  \n",
       "296      Dealer       Manual      0  \n",
       "297      Dealer       Manual      0  \n",
       "298      Dealer       Manual      0  \n",
       "299      Dealer       Manual      0  \n",
       "300      Dealer       Manual      0  "
      ]
     },
     "execution_count": 17,
     "metadata": {},
     "output_type": "execute_result"
    }
   ],
   "source": [
    "df.tail()"
   ]
  },
  {
   "cell_type": "markdown",
   "id": "a1093902",
   "metadata": {},
   "source": [
    "# 5)Are there any missing records in this data ?"
   ]
  },
  {
   "cell_type": "code",
   "execution_count": 18,
   "id": "8ff2a067",
   "metadata": {},
   "outputs": [
    {
     "data": {
      "text/plain": [
       "Car_Name         0\n",
       "Year             0\n",
       "Selling_Price    0\n",
       "Present_Price    0\n",
       "Kms_Driven       0\n",
       "Fuel_Type        0\n",
       "Seller_Type      0\n",
       "Transmission     0\n",
       "Owner            0\n",
       "dtype: int64"
      ]
     },
     "execution_count": 18,
     "metadata": {},
     "output_type": "execute_result"
    }
   ],
   "source": [
    "df.isnull().sum()"
   ]
  },
  {
   "cell_type": "markdown",
   "id": "311292df",
   "metadata": {},
   "source": [
    "since the sum of no.of null values are zero in each coloumn. there are no missing values"
   ]
  },
  {
   "cell_type": "code",
   "execution_count": 19,
   "id": "e12bfe96",
   "metadata": {},
   "outputs": [
    {
     "name": "stdout",
     "output_type": "stream",
     "text": [
      "<class 'pandas.core.frame.DataFrame'>\n",
      "RangeIndex: 301 entries, 0 to 300\n",
      "Data columns (total 9 columns):\n",
      " #   Column         Non-Null Count  Dtype  \n",
      "---  ------         --------------  -----  \n",
      " 0   Car_Name       301 non-null    object \n",
      " 1   Year           301 non-null    int64  \n",
      " 2   Selling_Price  301 non-null    float64\n",
      " 3   Present_Price  301 non-null    float64\n",
      " 4   Kms_Driven     301 non-null    int64  \n",
      " 5   Fuel_Type      301 non-null    object \n",
      " 6   Seller_Type    301 non-null    object \n",
      " 7   Transmission   301 non-null    object \n",
      " 8   Owner          301 non-null    int64  \n",
      "dtypes: float64(2), int64(3), object(4)\n",
      "memory usage: 21.3+ KB\n"
     ]
    }
   ],
   "source": [
    "df.info()"
   ]
  },
  {
   "cell_type": "markdown",
   "id": "12ba6474",
   "metadata": {},
   "source": [
    "so we have all 301 records of not null values. so no record is missing"
   ]
  },
  {
   "cell_type": "markdown",
   "id": "e58efd54",
   "metadata": {},
   "source": [
    "# 6)How many different vehicles are present in this data ?"
   ]
  },
  {
   "cell_type": "code",
   "execution_count": 20,
   "id": "83657583",
   "metadata": {},
   "outputs": [
    {
     "name": "stdout",
     "output_type": "stream",
     "text": [
      "98\n"
     ]
    }
   ],
   "source": [
    "n=df['Car_Name'].nunique()\n",
    "print(n)"
   ]
  },
  {
   "cell_type": "markdown",
   "id": "84ba1236",
   "metadata": {},
   "source": [
    "# 7)Which is the most sold vehicle in this data ?"
   ]
  },
  {
   "cell_type": "code",
   "execution_count": 23,
   "id": "780dbb43",
   "metadata": {},
   "outputs": [
    {
     "name": "stdout",
     "output_type": "stream",
     "text": [
      "Car_Name\n",
      "city                        26\n",
      "corolla altis               16\n",
      "verna                       14\n",
      "fortuner                    11\n",
      "brio                        10\n",
      "                            ..\n",
      "Honda CB Trigger             1\n",
      "Yamaha FZ S                  1\n",
      "Bajaj Pulsar 135 LS          1\n",
      "Activa 4g                    1\n",
      "Bajaj Avenger Street 220     1\n",
      "Name: count, Length: 98, dtype: int64\n"
     ]
    }
   ],
   "source": [
    "n=df['Car_Name'].value_counts()\n",
    "print(n)"
   ]
  },
  {
   "cell_type": "markdown",
   "id": "412e5989",
   "metadata": {},
   "source": [
    "# 8)Does the database include any CNG vehicle ? If yes how many of them are there ?"
   ]
  },
  {
   "cell_type": "code",
   "execution_count": 29,
   "id": "01db7eba",
   "metadata": {},
   "outputs": [
    {
     "name": "stdout",
     "output_type": "stream",
     "text": [
      "['Petrol' 'Diesel' 'CNG']\n"
     ]
    }
   ],
   "source": [
    "x=df['Fuel_Type'].unique()\n",
    "print(x)"
   ]
  },
  {
   "cell_type": "code",
   "execution_count": 41,
   "id": "51d67cd9",
   "metadata": {},
   "outputs": [
    {
     "data": {
      "text/plain": [
       "<function matplotlib.pyplot.show(close=None, block=None)>"
      ]
     },
     "execution_count": 41,
     "metadata": {},
     "output_type": "execute_result"
    },
    {
     "data": {
      "image/png": "[encoded data removed]",
      "text/plain": [
       "<Figure size 640x480 with 1 Axes>"
      ]
     },
     "metadata": {},
     "output_type": "display_data"
    }
   ],
   "source": [
    "plt.pie(df.Fuel_Type.value_counts(),labels = [\"Petrol\", \"Diesel\" , \"CNG\"],shadow = True)\n",
    "plt.show"
   ]
  },
  {
   "cell_type": "code",
   "execution_count": 31,
   "id": "bb4166f3",
   "metadata": {},
   "outputs": [
    {
     "data": {
      "text/plain": [
       "Fuel_Type\n",
       "Petrol    239\n",
       "Diesel     60\n",
       "CNG         2\n",
       "Name: count, dtype: int64"
      ]
     },
     "execution_count": 31,
     "metadata": {},
     "output_type": "execute_result"
    }
   ],
   "source": [
    "df['Fuel_Type'].value_counts()"
   ]
  },
  {
   "cell_type": "markdown",
   "id": "5f677b7a",
   "metadata": {},
   "source": [
    "so the data set has cng. and there are 2."
   ]
  },
  {
   "cell_type": "code",
   "execution_count": 42,
   "id": "197a5c75",
   "metadata": {},
   "outputs": [
    {
     "data": {
      "text/plain": [
       "<Axes: xlabel='Fuel_Type'>"
      ]
     },
     "execution_count": 42,
     "metadata": {},
     "output_type": "execute_result"
    },
    {
     "data": {
      "image/png": "[encoded data removed]",
      "text/plain": [
       "<Figure size 640x480 with 1 Axes>"
      ]
     },
     "metadata": {},
     "output_type": "display_data"
    }
   ],
   "source": [
    "df.Fuel_Type.value_counts().plot.bar()"
   ]
  },
  {
   "cell_type": "markdown",
   "id": "55e88755",
   "metadata": {},
   "source": [
    "# Which vehicle brand has the highest average resale value?"
   ]
  },
  {
   "cell_type": "code",
   "execution_count": 6,
   "id": "85383ce9",
   "metadata": {},
   "outputs": [
    {
     "name": "stdout",
     "output_type": "stream",
     "text": [
      "The vehicle brand with the highest average resale value is land cruiser with an average resale value of 35.0\n"
     ]
    }
   ],
   "source": [
    "# Calculate average resale value for each brand\n",
    "average_resale_value = df.groupby('Car_Name')['Selling_Price'].mean().sort_values(ascending=False)\n",
    "\n",
    "# Get the brand with the highest average resale value\n",
    "highest_average_resale_value_brand = average_resale_value.idxmax()\n",
    "highest_average_resale_value = average_resale_value.max()\n",
    "\n",
    "print(f\"The vehicle brand with the highest average resale value is {highest_average_resale_value_brand} with an average resale value of {highest_average_resale_value}\")\n"
   ]
  },
  {
   "cell_type": "markdown",
   "id": "58fd3bd0",
   "metadata": {},
   "source": [
    "# What is the average mileage of vehicles based on fuel type (Petrol, Diesel, CNG, Electric)?"
   ]
  },
  {
   "cell_type": "code",
   "execution_count": 8,
   "id": "69849824",
   "metadata": {},
   "outputs": [
    {
     "name": "stdout",
     "output_type": "stream",
     "text": [
      "The average mileage of vehicles based on fuel type is:\n",
      "Fuel_Type\n",
      "CNG       42749.000000\n",
      "Diesel    50369.916667\n",
      "Petrol    33528.937238\n",
      "Name: Kms_Driven, dtype: float64\n"
     ]
    }
   ],
   "source": [
    "# Calculate average mileage for each fuel type\n",
    "average_mileage_by_fuel_type = df.groupby('Fuel_Type')['Kms_Driven'].mean()\n",
    "\n",
    "print(f\"The average mileage of vehicles based on fuel type is:\\n{average_mileage_by_fuel_type}\")\n"
   ]
  },
  {
   "cell_type": "markdown",
   "id": "2d99cfa4",
   "metadata": {},
   "source": [
    "# 9)How many vehicles here are for sell from Individuals directly ?"
   ]
  },
  {
   "cell_type": "code",
   "execution_count": null,
   "id": "2229d9f9",
   "metadata": {},
   "outputs": [],
   "source": []
  },
  {
   "cell_type": "code",
   "execution_count": 6,
   "id": "19b9ad84",
   "metadata": {},
   "outputs": [
    {
     "name": "stdout",
     "output_type": "stream",
     "text": [
      "Seller_Type\n",
      "Dealer        195\n",
      "Individual    106\n",
      "Name: count, dtype: int64\n"
     ]
    }
   ],
   "source": [
    "m=df['Seller_Type'].value_counts()\n",
    "print(m)"
   ]
  },
  {
   "cell_type": "code",
   "execution_count": 8,
   "id": "595c3b8d",
   "metadata": {},
   "outputs": [
    {
     "name": "stdout",
     "output_type": "stream",
     "text": [
      "106 vehicles here are for sell from Individuals directly \n"
     ]
    }
   ],
   "source": [
    "print(m['Individual'],'vehicles here are for sell from Individuals directly ')"
   ]
  },
  {
   "cell_type": "code",
   "execution_count": 44,
   "id": "a639cbb5",
   "metadata": {},
   "outputs": [
    {
     "data": {
      "image/png": "[encoded data removed]",
      "text/plain": [
       "<Figure size 640x480 with 1 Axes>"
      ]
     },
     "metadata": {},
     "output_type": "display_data"
    }
   ],
   "source": [
    "plt.pie(df.Seller_Type.value_counts() , labels = [\"Dealer\",\"Individual\"] , shadow = True)\n",
    "plt.show()"
   ]
  },
  {
   "cell_type": "markdown",
   "id": "a25d4210",
   "metadata": {},
   "source": [
    "# 10)Does this database contain auto transmission vehicles ? If yes how many of them are there ?\n"
   ]
  },
  {
   "cell_type": "code",
   "execution_count": 9,
   "id": "8637609a",
   "metadata": {},
   "outputs": [
    {
     "name": "stdout",
     "output_type": "stream",
     "text": [
      "Transmission\n",
      "Manual       261\n",
      "Automatic     40\n",
      "Name: count, dtype: int64\n"
     ]
    }
   ],
   "source": [
    "x=df['Transmission'].value_counts()\n",
    "print(x)"
   ]
  },
  {
   "cell_type": "code",
   "execution_count": 11,
   "id": "d6109a1d",
   "metadata": {},
   "outputs": [
    {
     "name": "stdout",
     "output_type": "stream",
     "text": [
      "40 are the number of auto transmission vehicals\n"
     ]
    }
   ],
   "source": [
    "print(x['Automatic'],'are the number of auto transmission vehicals')"
   ]
  },
  {
   "cell_type": "code",
   "execution_count": 43,
   "id": "25ef4575",
   "metadata": {},
   "outputs": [
    {
     "data": {
      "text/plain": [
       "<Axes: xlabel='Transmission'>"
      ]
     },
     "execution_count": 43,
     "metadata": {},
     "output_type": "execute_result"
    },
    {
     "data": {
      "image/png": "[encoded data removed]",
      "text/plain": [
       "<Figure size 640x480 with 1 Axes>"
      ]
     },
     "metadata": {},
     "output_type": "display_data"
    }
   ],
   "source": [
    "df.Transmission.value_counts().plot.bar()"
   ]
  },
  {
   "cell_type": "markdown",
   "id": "273f2dea",
   "metadata": {},
   "source": [
    "# 11)How many single person owned vehicles are there in this database ?\n"
   ]
  },
  {
   "cell_type": "code",
   "execution_count": 13,
   "id": "2aa7a1b1",
   "metadata": {},
   "outputs": [
    {
     "data": {
      "text/plain": [
       "Owner\n",
       "0    290\n",
       "1     10\n",
       "3      1\n",
       "Name: count, dtype: int64"
      ]
     },
     "execution_count": 13,
     "metadata": {},
     "output_type": "execute_result"
    }
   ],
   "source": [
    "df['Owner'].value_counts()"
   ]
  },
  {
   "cell_type": "code",
   "execution_count": 16,
   "id": "348b7ee8",
   "metadata": {},
   "outputs": [
    {
     "name": "stdout",
     "output_type": "stream",
     "text": [
      "10 single persons owned vehicles are there in this database\n"
     ]
    }
   ],
   "source": [
    "x=df['Owner'].value_counts()\n",
    "print(x[1],'single persons owned vehicles are there in this database')"
   ]
  },
  {
   "cell_type": "markdown",
   "id": "39f2c2ba",
   "metadata": {},
   "source": [
    "# 12)Which is the most and least cost depreciated vehicle in data ?\n"
   ]
  },
  {
   "cell_type": "code",
   "execution_count": 17,
   "id": "960c059b",
   "metadata": {},
   "outputs": [
    {
     "data": {
      "text/html": [
       "<div>\n",
       "<style scoped>\n",
       "    .dataframe tbody tr th:only-of-type {\n",
       "        vertical-align: middle;\n",
       "    }\n",
       "\n",
       "    .dataframe tbody tr th {\n",
       "        vertical-align: top;\n",
       "    }\n",
       "\n",
       "    .dataframe thead th {\n",
       "        text-align: right;\n",
       "    }\n",
       "</style>\n",
       "<table border=\"1\" class=\"dataframe\">\n",
       "  <thead>\n",
       "    <tr style=\"text-align: right;\">\n",
       "      <th></th>\n",
       "      <th>Car_Name</th>\n",
       "      <th>Year</th>\n",
       "      <th>Selling_Price</th>\n",
       "      <th>Present_Price</th>\n",
       "      <th>Kms_Driven</th>\n",
       "      <th>Fuel_Type</th>\n",
       "      <th>Seller_Type</th>\n",
       "      <th>Transmission</th>\n",
       "      <th>Owner</th>\n",
       "      <th>Depreciation</th>\n",
       "    </tr>\n",
       "  </thead>\n",
       "  <tbody>\n",
       "    <tr>\n",
       "      <th>0</th>\n",
       "      <td>ritz</td>\n",
       "      <td>2014</td>\n",
       "      <td>3.35</td>\n",
       "      <td>5.59</td>\n",
       "      <td>27000</td>\n",
       "      <td>Petrol</td>\n",
       "      <td>Dealer</td>\n",
       "      <td>Manual</td>\n",
       "      <td>0</td>\n",
       "      <td>2.24</td>\n",
       "    </tr>\n",
       "    <tr>\n",
       "      <th>1</th>\n",
       "      <td>sx4</td>\n",
       "      <td>2013</td>\n",
       "      <td>4.75</td>\n",
       "      <td>9.54</td>\n",
       "      <td>43000</td>\n",
       "      <td>Diesel</td>\n",
       "      <td>Dealer</td>\n",
       "      <td>Manual</td>\n",
       "      <td>0</td>\n",
       "      <td>4.79</td>\n",
       "    </tr>\n",
       "    <tr>\n",
       "      <th>2</th>\n",
       "      <td>ciaz</td>\n",
       "      <td>2017</td>\n",
       "      <td>7.25</td>\n",
       "      <td>9.85</td>\n",
       "      <td>6900</td>\n",
       "      <td>Petrol</td>\n",
       "      <td>Dealer</td>\n",
       "      <td>Manual</td>\n",
       "      <td>0</td>\n",
       "      <td>2.60</td>\n",
       "    </tr>\n",
       "    <tr>\n",
       "      <th>3</th>\n",
       "      <td>wagon r</td>\n",
       "      <td>2011</td>\n",
       "      <td>2.85</td>\n",
       "      <td>4.15</td>\n",
       "      <td>5200</td>\n",
       "      <td>Petrol</td>\n",
       "      <td>Dealer</td>\n",
       "      <td>Manual</td>\n",
       "      <td>0</td>\n",
       "      <td>1.30</td>\n",
       "    </tr>\n",
       "    <tr>\n",
       "      <th>4</th>\n",
       "      <td>swift</td>\n",
       "      <td>2014</td>\n",
       "      <td>4.60</td>\n",
       "      <td>6.87</td>\n",
       "      <td>42450</td>\n",
       "      <td>Diesel</td>\n",
       "      <td>Dealer</td>\n",
       "      <td>Manual</td>\n",
       "      <td>0</td>\n",
       "      <td>2.27</td>\n",
       "    </tr>\n",
       "  </tbody>\n",
       "</table>\n",
       "</div>"
      ],
      "text/plain": [
       "  Car_Name  Year  Selling_Price  Present_Price  Kms_Driven Fuel_Type  \\\n",
       "0     ritz  2014           3.35           5.59       27000    Petrol   \n",
       "1      sx4  2013           4.75           9.54       43000    Diesel   \n",
       "2     ciaz  2017           7.25           9.85        6900    Petrol   \n",
       "3  wagon r  2011           2.85           4.15        5200    Petrol   \n",
       "4    swift  2014           4.60           6.87       42450    Diesel   \n",
       "\n",
       "  Seller_Type Transmission  Owner  Depreciation  \n",
       "0      Dealer       Manual      0          2.24  \n",
       "1      Dealer       Manual      0          4.79  \n",
       "2      Dealer       Manual      0          2.60  \n",
       "3      Dealer       Manual      0          1.30  \n",
       "4      Dealer       Manual      0          2.27  "
      ]
     },
     "execution_count": 17,
     "metadata": {},
     "output_type": "execute_result"
    }
   ],
   "source": [
    "#depreciation is loss which means presentprice(for the price u bought)-selling price\n",
    "#there is no depreciation colounm so creating\n",
    "df['Depreciation']=df['Present_Price']-df['Selling_Price']\n",
    "df.head()"
   ]
  },
  {
   "cell_type": "code",
   "execution_count": 22,
   "id": "fd700757",
   "metadata": {},
   "outputs": [
    {
     "name": "stdout",
     "output_type": "stream",
     "text": [
      "        Car_Name\n",
      "86  land cruiser is max\n"
     ]
    }
   ],
   "source": [
    "#since we need vehicale we need to reach that record having min or max and print its corresponding vehicle\n",
    "maxx=df.loc[df['Depreciation']==df['Depreciation'].max(),['Car_Name']]\n",
    "print(maxx,'is max')\n"
   ]
  },
  {
   "cell_type": "code",
   "execution_count": 27,
   "id": "f6adb067",
   "metadata": {},
   "outputs": [
    {
     "name": "stdout",
     "output_type": "stream",
     "text": [
      "            Car_Name\n",
      "155  Honda Activa 4G is min\n"
     ]
    }
   ],
   "source": [
    "minn=df.loc[df['Depreciation']==df['Depreciation'].min(),['Car_Name']]\n",
    "print(minn,'is min')"
   ]
  },
  {
   "cell_type": "markdown",
   "id": "7a75441c",
   "metadata": {},
   "source": [
    "# 13)Which brands of vehicles are less affected by cost depreciation ?\n"
   ]
  },
  {
   "cell_type": "code",
   "execution_count": 38,
   "id": "8c277fc3",
   "metadata": {},
   "outputs": [
    {
     "data": {
      "text/plain": [
       "<Axes: xlabel='Depreciation', ylabel='Car_Name'>"
      ]
     },
     "execution_count": 38,
     "metadata": {},
     "output_type": "execute_result"
    },
    {
     "data": {
      "image/png": "[encoded data removed]",
      "text/plain": [
       "<Figure size 1200x2000 with 1 Axes>"
      ]
     },
     "metadata": {},
     "output_type": "display_data"
    }
   ],
   "source": [
    "import matplotlib.pyplot as plt\n",
    "import seaborn as sns\n",
    "\n",
    "fig_dims = (12, 20)\n",
    "fig, ax = plt.subplots(figsize=fig_dims)\n",
    "sns.barplot(x=df.Depreciation, y=df.Car_Name, ax=ax, data=df)\n"
   ]
  },
  {
   "cell_type": "code",
   "execution_count": 40,
   "id": "bc970310",
   "metadata": {},
   "outputs": [
    {
     "name": "stdout",
     "output_type": "stream",
     "text": [
      "The brands of vehicles less affected by cost depreciation are:\n",
      "Car_Name\n",
      "TVS Sport              0.040000\n",
      "Honda Activa 4G        0.045000\n",
      "Hero Passion X pro     0.050000\n",
      "Bajaj Avenger 150      0.050000\n",
      "Honda Dream Yuga       0.060000\n",
      "                        ...    \n",
      "corolla altis         10.399375\n",
      "corolla               10.850000\n",
      "fortuner              12.047273\n",
      "camry                 21.230000\n",
      "land cruiser          57.600000\n",
      "Name: Depreciation, Length: 98, dtype: float64\n"
     ]
    }
   ],
   "source": [
    "mean_depreciation_by_brand = df.groupby('Car_Name')['Depreciation'].mean().sort_values()\n",
    "print(f\"The brands of vehicles less affected by cost depreciation are:\\n{mean_depreciation_by_brand}\")"
   ]
  },
  {
   "cell_type": "markdown",
   "id": "54dd0edb",
   "metadata": {},
   "source": [
    "# 14)Are there any factors which you feel affect the cost depreciation ?\n"
   ]
  },
  {
   "cell_type": "markdown",
   "id": "47dfbf29",
   "metadata": {},
   "source": [
    "Year of manufacturing and kilometers driven"
   ]
  },
  {
   "cell_type": "markdown",
   "id": "96d96aa4",
   "metadata": {},
   "source": [
    "# 15)In general selling price is affected by age of vehicle and distance driven by vehicle , is it observable from data ?\n"
   ]
  },
  {
   "cell_type": "code",
   "execution_count": 52,
   "id": "ff14ecca",
   "metadata": {},
   "outputs": [
    {
     "data": {
      "image/png": "[encoded data removed]",
      "text/plain": [
       "<Figure size 640x480 with 1 Axes>"
      ]
     },
     "metadata": {},
     "output_type": "display_data"
    }
   ],
   "source": [
    "\n",
    "\n",
    "plt.scatter(df.Kms_Driven,df.Selling_Price)\n",
    "plt.xlabel = \"Kilometers Driven\"\n",
    "plt.ylabel = \"Selling Price  in Lakhs\"\n",
    "plt.title = \"Selling price vs Kilometers Driven\"\n",
    "plt.show() "
   ]
  },
  {
   "cell_type": "code",
   "execution_count": 53,
   "id": "18e1d0b5",
   "metadata": {},
   "outputs": [
    {
     "data": {
      "image/png": "[encoded data removed]",
      "text/plain": [
       "<Figure size 640x480 with 1 Axes>"
      ]
     },
     "metadata": {},
     "output_type": "display_data"
    }
   ],
   "source": [
    "plt.scatter(df.Kms_Driven,df.Depreciation)\n",
    "plt.xlabel = \"Kilometers Driven\"\n",
    "plt.ylabel = \"Cost depriciation in Lakhs\"\n",
    "plt.title = \"Cost depriciation vs Kilometers Driven\"\n",
    "plt.show() "
   ]
  },
  {
   "cell_type": "markdown",
   "id": "1315b3fd",
   "metadata": {},
   "source": [
    "# 16)Can we get idea about newest vehicles i.e. after 2014 manufactured ?\n"
   ]
  },
  {
   "cell_type": "code",
   "execution_count": 48,
   "id": "2235d6c1",
   "metadata": {},
   "outputs": [
    {
     "data": {
      "text/html": [
       "<div>\n",
       "<style scoped>\n",
       "    .dataframe tbody tr th:only-of-type {\n",
       "        vertical-align: middle;\n",
       "    }\n",
       "\n",
       "    .dataframe tbody tr th {\n",
       "        vertical-align: top;\n",
       "    }\n",
       "\n",
       "    .dataframe thead th {\n",
       "        text-align: right;\n",
       "    }\n",
       "</style>\n",
       "<table border=\"1\" class=\"dataframe\">\n",
       "  <thead>\n",
       "    <tr style=\"text-align: right;\">\n",
       "      <th></th>\n",
       "      <th>Car_Name</th>\n",
       "      <th>Year</th>\n",
       "      <th>Selling_Price</th>\n",
       "      <th>Present_Price</th>\n",
       "      <th>Kms_Driven</th>\n",
       "      <th>Fuel_Type</th>\n",
       "      <th>Seller_Type</th>\n",
       "      <th>Transmission</th>\n",
       "      <th>Owner</th>\n",
       "      <th>Depreciation</th>\n",
       "      <th>vehicle_age</th>\n",
       "    </tr>\n",
       "  </thead>\n",
       "  <tbody>\n",
       "    <tr>\n",
       "      <th>2</th>\n",
       "      <td>ciaz</td>\n",
       "      <td>2017</td>\n",
       "      <td>7.25</td>\n",
       "      <td>9.85</td>\n",
       "      <td>6900</td>\n",
       "      <td>Petrol</td>\n",
       "      <td>Dealer</td>\n",
       "      <td>Manual</td>\n",
       "      <td>0</td>\n",
       "      <td>2.60</td>\n",
       "      <td>7</td>\n",
       "    </tr>\n",
       "    <tr>\n",
       "      <th>5</th>\n",
       "      <td>vitara brezza</td>\n",
       "      <td>2018</td>\n",
       "      <td>9.25</td>\n",
       "      <td>9.83</td>\n",
       "      <td>2071</td>\n",
       "      <td>Diesel</td>\n",
       "      <td>Dealer</td>\n",
       "      <td>Manual</td>\n",
       "      <td>0</td>\n",
       "      <td>0.58</td>\n",
       "      <td>6</td>\n",
       "    </tr>\n",
       "    <tr>\n",
       "      <th>6</th>\n",
       "      <td>ciaz</td>\n",
       "      <td>2015</td>\n",
       "      <td>6.75</td>\n",
       "      <td>8.12</td>\n",
       "      <td>18796</td>\n",
       "      <td>Petrol</td>\n",
       "      <td>Dealer</td>\n",
       "      <td>Manual</td>\n",
       "      <td>0</td>\n",
       "      <td>1.37</td>\n",
       "      <td>9</td>\n",
       "    </tr>\n",
       "    <tr>\n",
       "      <th>7</th>\n",
       "      <td>s cross</td>\n",
       "      <td>2015</td>\n",
       "      <td>6.50</td>\n",
       "      <td>8.61</td>\n",
       "      <td>33429</td>\n",
       "      <td>Diesel</td>\n",
       "      <td>Dealer</td>\n",
       "      <td>Manual</td>\n",
       "      <td>0</td>\n",
       "      <td>2.11</td>\n",
       "      <td>9</td>\n",
       "    </tr>\n",
       "    <tr>\n",
       "      <th>8</th>\n",
       "      <td>ciaz</td>\n",
       "      <td>2016</td>\n",
       "      <td>8.75</td>\n",
       "      <td>8.89</td>\n",
       "      <td>20273</td>\n",
       "      <td>Diesel</td>\n",
       "      <td>Dealer</td>\n",
       "      <td>Manual</td>\n",
       "      <td>0</td>\n",
       "      <td>0.14</td>\n",
       "      <td>8</td>\n",
       "    </tr>\n",
       "  </tbody>\n",
       "</table>\n",
       "</div>"
      ],
      "text/plain": [
       "        Car_Name  Year  Selling_Price  Present_Price  Kms_Driven Fuel_Type  \\\n",
       "2           ciaz  2017           7.25           9.85        6900    Petrol   \n",
       "5  vitara brezza  2018           9.25           9.83        2071    Diesel   \n",
       "6           ciaz  2015           6.75           8.12       18796    Petrol   \n",
       "7        s cross  2015           6.50           8.61       33429    Diesel   \n",
       "8           ciaz  2016           8.75           8.89       20273    Diesel   \n",
       "\n",
       "  Seller_Type Transmission  Owner  Depreciation  vehicle_age  \n",
       "2      Dealer       Manual      0          2.60            7  \n",
       "5      Dealer       Manual      0          0.58            6  \n",
       "6      Dealer       Manual      0          1.37            9  \n",
       "7      Dealer       Manual      0          2.11            9  \n",
       "8      Dealer       Manual      0          0.14            8  "
      ]
     },
     "execution_count": 48,
     "metadata": {},
     "output_type": "execute_result"
    }
   ],
   "source": [
    "new_vehicles = df[df['Year'] >= 2015]\n",
    "new_vehicles.head()"
   ]
  },
  {
   "cell_type": "markdown",
   "id": "12e710c7",
   "metadata": {},
   "source": [
    "# 17)Can we find out data of only two wheelers from this data ?Which is the oldest bike sold here?\n"
   ]
  },
  {
   "cell_type": "code",
   "execution_count": 5,
   "id": "ea1fa415",
   "metadata": {},
   "outputs": [
    {
     "name": "stdout",
     "output_type": "stream",
     "text": [
      "                      Car_Name  Year  Selling_Price  Present_Price  \\\n",
      "23                    alto k10  2014           2.50           3.46   \n",
      "37                         800  2003           0.35           2.28   \n",
      "44                        omni  2012           1.25           2.69   \n",
      "100  Royal Enfield Thunder 500  2016           1.75           1.90   \n",
      "101         UM Renegade Mojave  2017           1.70           1.82   \n",
      "\n",
      "     Kms_Driven Fuel_Type Seller_Type Transmission  Owner  \n",
      "23        45280    Petrol      Dealer       Manual      0  \n",
      "37       127000    Petrol  Individual       Manual      0  \n",
      "44        50000    Petrol      Dealer       Manual      0  \n",
      "100        3000    Petrol  Individual       Manual      0  \n",
      "101        1400    Petrol  Individual       Manual      0  \n"
     ]
    }
   ],
   "source": [
    "two_wheelers = df[df[\"Present_Price\"]<3.5]\n",
    "print(two_wheelers.head())"
   ]
  },
  {
   "cell_type": "markdown",
   "id": "9450118e",
   "metadata": {},
   "source": [
    "# 18)Which is the newest bike sold here?\n"
   ]
  },
  {
   "cell_type": "code",
   "execution_count": 6,
   "id": "fc34d652",
   "metadata": {},
   "outputs": [
    {
     "data": {
      "text/html": [
       "<div>\n",
       "<style scoped>\n",
       "    .dataframe tbody tr th:only-of-type {\n",
       "        vertical-align: middle;\n",
       "    }\n",
       "\n",
       "    .dataframe tbody tr th {\n",
       "        vertical-align: top;\n",
       "    }\n",
       "\n",
       "    .dataframe thead th {\n",
       "        text-align: right;\n",
       "    }\n",
       "</style>\n",
       "<table border=\"1\" class=\"dataframe\">\n",
       "  <thead>\n",
       "    <tr style=\"text-align: right;\">\n",
       "      <th></th>\n",
       "      <th>Car_Name</th>\n",
       "      <th>Year</th>\n",
       "      <th>Selling_Price</th>\n",
       "      <th>Present_Price</th>\n",
       "      <th>Kms_Driven</th>\n",
       "      <th>Fuel_Type</th>\n",
       "      <th>Seller_Type</th>\n",
       "      <th>Transmission</th>\n",
       "      <th>Owner</th>\n",
       "    </tr>\n",
       "  </thead>\n",
       "  <tbody>\n",
       "    <tr>\n",
       "      <th>0</th>\n",
       "      <td>alto k10</td>\n",
       "      <td>2014</td>\n",
       "      <td>2.50</td>\n",
       "      <td>3.46</td>\n",
       "      <td>45280</td>\n",
       "      <td>Petrol</td>\n",
       "      <td>Dealer</td>\n",
       "      <td>Manual</td>\n",
       "      <td>0</td>\n",
       "    </tr>\n",
       "    <tr>\n",
       "      <th>1</th>\n",
       "      <td>800</td>\n",
       "      <td>2003</td>\n",
       "      <td>0.35</td>\n",
       "      <td>2.28</td>\n",
       "      <td>127000</td>\n",
       "      <td>Petrol</td>\n",
       "      <td>Individual</td>\n",
       "      <td>Manual</td>\n",
       "      <td>0</td>\n",
       "    </tr>\n",
       "    <tr>\n",
       "      <th>2</th>\n",
       "      <td>omni</td>\n",
       "      <td>2012</td>\n",
       "      <td>1.25</td>\n",
       "      <td>2.69</td>\n",
       "      <td>50000</td>\n",
       "      <td>Petrol</td>\n",
       "      <td>Dealer</td>\n",
       "      <td>Manual</td>\n",
       "      <td>0</td>\n",
       "    </tr>\n",
       "    <tr>\n",
       "      <th>3</th>\n",
       "      <td>Royal Enfield Thunder 500</td>\n",
       "      <td>2016</td>\n",
       "      <td>1.75</td>\n",
       "      <td>1.90</td>\n",
       "      <td>3000</td>\n",
       "      <td>Petrol</td>\n",
       "      <td>Individual</td>\n",
       "      <td>Manual</td>\n",
       "      <td>0</td>\n",
       "    </tr>\n",
       "    <tr>\n",
       "      <th>4</th>\n",
       "      <td>UM Renegade Mojave</td>\n",
       "      <td>2017</td>\n",
       "      <td>1.70</td>\n",
       "      <td>1.82</td>\n",
       "      <td>1400</td>\n",
       "      <td>Petrol</td>\n",
       "      <td>Individual</td>\n",
       "      <td>Manual</td>\n",
       "      <td>0</td>\n",
       "    </tr>\n",
       "  </tbody>\n",
       "</table>\n",
       "</div>"
      ],
      "text/plain": [
       "                    Car_Name  Year  Selling_Price  Present_Price  Kms_Driven  \\\n",
       "0                   alto k10  2014           2.50           3.46       45280   \n",
       "1                        800  2003           0.35           2.28      127000   \n",
       "2                       omni  2012           1.25           2.69       50000   \n",
       "3  Royal Enfield Thunder 500  2016           1.75           1.90        3000   \n",
       "4         UM Renegade Mojave  2017           1.70           1.82        1400   \n",
       "\n",
       "  Fuel_Type Seller_Type Transmission  Owner  \n",
       "0    Petrol      Dealer       Manual      0  \n",
       "1    Petrol  Individual       Manual      0  \n",
       "2    Petrol      Dealer       Manual      0  \n",
       "3    Petrol  Individual       Manual      0  \n",
       "4    Petrol  Individual       Manual      0  "
      ]
     },
     "execution_count": 6,
     "metadata": {},
     "output_type": "execute_result"
    }
   ],
   "source": [
    "two_wheelers.reset_index(drop=True,inplace=True)\n",
    "two_wheelers.head()"
   ]
  },
  {
   "cell_type": "code",
   "execution_count": 7,
   "id": "8fd45cbe",
   "metadata": {},
   "outputs": [
    {
     "data": {
      "text/html": [
       "<div>\n",
       "<style scoped>\n",
       "    .dataframe tbody tr th:only-of-type {\n",
       "        vertical-align: middle;\n",
       "    }\n",
       "\n",
       "    .dataframe tbody tr th {\n",
       "        vertical-align: top;\n",
       "    }\n",
       "\n",
       "    .dataframe thead th {\n",
       "        text-align: right;\n",
       "    }\n",
       "</style>\n",
       "<table border=\"1\" class=\"dataframe\">\n",
       "  <thead>\n",
       "    <tr style=\"text-align: right;\">\n",
       "      <th></th>\n",
       "      <th>Car_Name</th>\n",
       "      <th>Year</th>\n",
       "      <th>Selling_Price</th>\n",
       "      <th>Present_Price</th>\n",
       "      <th>Kms_Driven</th>\n",
       "      <th>Fuel_Type</th>\n",
       "      <th>Seller_Type</th>\n",
       "      <th>Transmission</th>\n",
       "      <th>Owner</th>\n",
       "    </tr>\n",
       "  </thead>\n",
       "  <tbody>\n",
       "    <tr>\n",
       "      <th>3</th>\n",
       "      <td>Royal Enfield Thunder 500</td>\n",
       "      <td>2016</td>\n",
       "      <td>1.75</td>\n",
       "      <td>1.90</td>\n",
       "      <td>3000</td>\n",
       "      <td>Petrol</td>\n",
       "      <td>Individual</td>\n",
       "      <td>Manual</td>\n",
       "      <td>0</td>\n",
       "    </tr>\n",
       "    <tr>\n",
       "      <th>4</th>\n",
       "      <td>UM Renegade Mojave</td>\n",
       "      <td>2017</td>\n",
       "      <td>1.70</td>\n",
       "      <td>1.82</td>\n",
       "      <td>1400</td>\n",
       "      <td>Petrol</td>\n",
       "      <td>Individual</td>\n",
       "      <td>Manual</td>\n",
       "      <td>0</td>\n",
       "    </tr>\n",
       "    <tr>\n",
       "      <th>5</th>\n",
       "      <td>KTM RC200</td>\n",
       "      <td>2017</td>\n",
       "      <td>1.65</td>\n",
       "      <td>1.78</td>\n",
       "      <td>4000</td>\n",
       "      <td>Petrol</td>\n",
       "      <td>Individual</td>\n",
       "      <td>Manual</td>\n",
       "      <td>0</td>\n",
       "    </tr>\n",
       "    <tr>\n",
       "      <th>6</th>\n",
       "      <td>Bajaj Dominar 400</td>\n",
       "      <td>2017</td>\n",
       "      <td>1.45</td>\n",
       "      <td>1.60</td>\n",
       "      <td>1200</td>\n",
       "      <td>Petrol</td>\n",
       "      <td>Individual</td>\n",
       "      <td>Manual</td>\n",
       "      <td>0</td>\n",
       "    </tr>\n",
       "    <tr>\n",
       "      <th>7</th>\n",
       "      <td>Royal Enfield Classic 350</td>\n",
       "      <td>2017</td>\n",
       "      <td>1.35</td>\n",
       "      <td>1.47</td>\n",
       "      <td>4100</td>\n",
       "      <td>Petrol</td>\n",
       "      <td>Individual</td>\n",
       "      <td>Manual</td>\n",
       "      <td>0</td>\n",
       "    </tr>\n",
       "  </tbody>\n",
       "</table>\n",
       "</div>"
      ],
      "text/plain": [
       "                    Car_Name  Year  Selling_Price  Present_Price  Kms_Driven  \\\n",
       "3  Royal Enfield Thunder 500  2016           1.75           1.90        3000   \n",
       "4         UM Renegade Mojave  2017           1.70           1.82        1400   \n",
       "5                  KTM RC200  2017           1.65           1.78        4000   \n",
       "6          Bajaj Dominar 400  2017           1.45           1.60        1200   \n",
       "7  Royal Enfield Classic 350  2017           1.35           1.47        4100   \n",
       "\n",
       "  Fuel_Type Seller_Type Transmission  Owner  \n",
       "3    Petrol  Individual       Manual      0  \n",
       "4    Petrol  Individual       Manual      0  \n",
       "5    Petrol  Individual       Manual      0  \n",
       "6    Petrol  Individual       Manual      0  \n",
       "7    Petrol  Individual       Manual      0  "
      ]
     },
     "execution_count": 7,
     "metadata": {},
     "output_type": "execute_result"
    }
   ],
   "source": [
    "two_wheelers = two_wheelers.loc[two_wheelers.Car_Name != \"alto k10\"]\n",
    "two_wheelers = two_wheelers.loc[two_wheelers.Car_Name != \"800\"]\n",
    "two_wheelers = two_wheelers.loc[two_wheelers.Car_Name != \"omni\"]\n",
    "two_wheelers.head()"
   ]
  },
  {
   "cell_type": "code",
   "execution_count": 8,
   "id": "e4cac419",
   "metadata": {},
   "outputs": [],
   "source": [
    "two_wheelers.reset_index(drop=True,inplace=True)"
   ]
  },
  {
   "cell_type": "code",
   "execution_count": 59,
   "id": "e77f875b",
   "metadata": {
    "scrolled": true
   },
   "outputs": [
    {
     "data": {
      "text/html": [
       "<div>\n",
       "<style scoped>\n",
       "    .dataframe tbody tr th:only-of-type {\n",
       "        vertical-align: middle;\n",
       "    }\n",
       "\n",
       "    .dataframe tbody tr th {\n",
       "        vertical-align: top;\n",
       "    }\n",
       "\n",
       "    .dataframe thead th {\n",
       "        text-align: right;\n",
       "    }\n",
       "</style>\n",
       "<table border=\"1\" class=\"dataframe\">\n",
       "  <thead>\n",
       "    <tr style=\"text-align: right;\">\n",
       "      <th></th>\n",
       "      <th>Car_Name</th>\n",
       "      <th>Year</th>\n",
       "      <th>Selling_Price</th>\n",
       "      <th>Present_Price</th>\n",
       "      <th>Kms_Driven</th>\n",
       "      <th>Fuel_Type</th>\n",
       "      <th>Seller_Type</th>\n",
       "      <th>Transmission</th>\n",
       "      <th>Owner</th>\n",
       "      <th>Depreciation</th>\n",
       "      <th>vehicle_age</th>\n",
       "    </tr>\n",
       "  </thead>\n",
       "  <tbody>\n",
       "    <tr>\n",
       "      <th>0</th>\n",
       "      <td>Royal Enfield Thunder 500</td>\n",
       "      <td>2016</td>\n",
       "      <td>1.75</td>\n",
       "      <td>1.90</td>\n",
       "      <td>3000</td>\n",
       "      <td>Petrol</td>\n",
       "      <td>Individual</td>\n",
       "      <td>Manual</td>\n",
       "      <td>0</td>\n",
       "      <td>0.15</td>\n",
       "      <td>8</td>\n",
       "    </tr>\n",
       "    <tr>\n",
       "      <th>1</th>\n",
       "      <td>UM Renegade Mojave</td>\n",
       "      <td>2017</td>\n",
       "      <td>1.70</td>\n",
       "      <td>1.82</td>\n",
       "      <td>1400</td>\n",
       "      <td>Petrol</td>\n",
       "      <td>Individual</td>\n",
       "      <td>Manual</td>\n",
       "      <td>0</td>\n",
       "      <td>0.12</td>\n",
       "      <td>7</td>\n",
       "    </tr>\n",
       "    <tr>\n",
       "      <th>2</th>\n",
       "      <td>KTM RC200</td>\n",
       "      <td>2017</td>\n",
       "      <td>1.65</td>\n",
       "      <td>1.78</td>\n",
       "      <td>4000</td>\n",
       "      <td>Petrol</td>\n",
       "      <td>Individual</td>\n",
       "      <td>Manual</td>\n",
       "      <td>0</td>\n",
       "      <td>0.13</td>\n",
       "      <td>7</td>\n",
       "    </tr>\n",
       "    <tr>\n",
       "      <th>3</th>\n",
       "      <td>Bajaj Dominar 400</td>\n",
       "      <td>2017</td>\n",
       "      <td>1.45</td>\n",
       "      <td>1.60</td>\n",
       "      <td>1200</td>\n",
       "      <td>Petrol</td>\n",
       "      <td>Individual</td>\n",
       "      <td>Manual</td>\n",
       "      <td>0</td>\n",
       "      <td>0.15</td>\n",
       "      <td>7</td>\n",
       "    </tr>\n",
       "    <tr>\n",
       "      <th>4</th>\n",
       "      <td>Royal Enfield Classic 350</td>\n",
       "      <td>2017</td>\n",
       "      <td>1.35</td>\n",
       "      <td>1.47</td>\n",
       "      <td>4100</td>\n",
       "      <td>Petrol</td>\n",
       "      <td>Individual</td>\n",
       "      <td>Manual</td>\n",
       "      <td>0</td>\n",
       "      <td>0.12</td>\n",
       "      <td>7</td>\n",
       "    </tr>\n",
       "  </tbody>\n",
       "</table>\n",
       "</div>"
      ],
      "text/plain": [
       "                    Car_Name  Year  Selling_Price  Present_Price  Kms_Driven  \\\n",
       "0  Royal Enfield Thunder 500  2016           1.75           1.90        3000   \n",
       "1         UM Renegade Mojave  2017           1.70           1.82        1400   \n",
       "2                  KTM RC200  2017           1.65           1.78        4000   \n",
       "3          Bajaj Dominar 400  2017           1.45           1.60        1200   \n",
       "4  Royal Enfield Classic 350  2017           1.35           1.47        4100   \n",
       "\n",
       "  Fuel_Type Seller_Type Transmission  Owner  Depreciation  vehicle_age  \n",
       "0    Petrol  Individual       Manual      0          0.15            8  \n",
       "1    Petrol  Individual       Manual      0          0.12            7  \n",
       "2    Petrol  Individual       Manual      0          0.13            7  \n",
       "3    Petrol  Individual       Manual      0          0.15            7  \n",
       "4    Petrol  Individual       Manual      0          0.12            7  "
      ]
     },
     "execution_count": 59,
     "metadata": {},
     "output_type": "execute_result"
    }
   ],
   "source": [
    "two_wheelers.head()"
   ]
  },
  {
   "cell_type": "code",
   "execution_count": 60,
   "id": "bc3d57e1",
   "metadata": {
    "scrolled": false
   },
   "outputs": [
    {
     "data": {
      "text/html": [
       "<div>\n",
       "<style scoped>\n",
       "    .dataframe tbody tr th:only-of-type {\n",
       "        vertical-align: middle;\n",
       "    }\n",
       "\n",
       "    .dataframe tbody tr th {\n",
       "        vertical-align: top;\n",
       "    }\n",
       "\n",
       "    .dataframe thead th {\n",
       "        text-align: right;\n",
       "    }\n",
       "</style>\n",
       "<table border=\"1\" class=\"dataframe\">\n",
       "  <thead>\n",
       "    <tr style=\"text-align: right;\">\n",
       "      <th></th>\n",
       "      <th>Car_Name</th>\n",
       "      <th>Year</th>\n",
       "      <th>Selling_Price</th>\n",
       "      <th>Present_Price</th>\n",
       "      <th>Kms_Driven</th>\n",
       "      <th>Fuel_Type</th>\n",
       "      <th>Seller_Type</th>\n",
       "      <th>Transmission</th>\n",
       "      <th>Owner</th>\n",
       "      <th>Depreciation</th>\n",
       "      <th>vehicle_age</th>\n",
       "    </tr>\n",
       "  </thead>\n",
       "  <tbody>\n",
       "    <tr>\n",
       "      <th>1</th>\n",
       "      <td>UM Renegade Mojave</td>\n",
       "      <td>2017</td>\n",
       "      <td>1.70</td>\n",
       "      <td>1.82</td>\n",
       "      <td>1400</td>\n",
       "      <td>Petrol</td>\n",
       "      <td>Individual</td>\n",
       "      <td>Manual</td>\n",
       "      <td>0</td>\n",
       "      <td>0.12</td>\n",
       "      <td>7</td>\n",
       "    </tr>\n",
       "    <tr>\n",
       "      <th>2</th>\n",
       "      <td>KTM RC200</td>\n",
       "      <td>2017</td>\n",
       "      <td>1.65</td>\n",
       "      <td>1.78</td>\n",
       "      <td>4000</td>\n",
       "      <td>Petrol</td>\n",
       "      <td>Individual</td>\n",
       "      <td>Manual</td>\n",
       "      <td>0</td>\n",
       "      <td>0.13</td>\n",
       "      <td>7</td>\n",
       "    </tr>\n",
       "    <tr>\n",
       "      <th>3</th>\n",
       "      <td>Bajaj Dominar 400</td>\n",
       "      <td>2017</td>\n",
       "      <td>1.45</td>\n",
       "      <td>1.60</td>\n",
       "      <td>1200</td>\n",
       "      <td>Petrol</td>\n",
       "      <td>Individual</td>\n",
       "      <td>Manual</td>\n",
       "      <td>0</td>\n",
       "      <td>0.15</td>\n",
       "      <td>7</td>\n",
       "    </tr>\n",
       "    <tr>\n",
       "      <th>4</th>\n",
       "      <td>Royal Enfield Classic 350</td>\n",
       "      <td>2017</td>\n",
       "      <td>1.35</td>\n",
       "      <td>1.47</td>\n",
       "      <td>4100</td>\n",
       "      <td>Petrol</td>\n",
       "      <td>Individual</td>\n",
       "      <td>Manual</td>\n",
       "      <td>0</td>\n",
       "      <td>0.12</td>\n",
       "      <td>7</td>\n",
       "    </tr>\n",
       "    <tr>\n",
       "      <th>9</th>\n",
       "      <td>Royal Enfield Classic 350</td>\n",
       "      <td>2017</td>\n",
       "      <td>1.20</td>\n",
       "      <td>1.47</td>\n",
       "      <td>11000</td>\n",
       "      <td>Petrol</td>\n",
       "      <td>Individual</td>\n",
       "      <td>Manual</td>\n",
       "      <td>0</td>\n",
       "      <td>0.27</td>\n",
       "      <td>7</td>\n",
       "    </tr>\n",
       "    <tr>\n",
       "      <th>26</th>\n",
       "      <td>Bajaj Avenger 220</td>\n",
       "      <td>2017</td>\n",
       "      <td>0.90</td>\n",
       "      <td>0.95</td>\n",
       "      <td>1300</td>\n",
       "      <td>Petrol</td>\n",
       "      <td>Individual</td>\n",
       "      <td>Manual</td>\n",
       "      <td>0</td>\n",
       "      <td>0.05</td>\n",
       "      <td>7</td>\n",
       "    </tr>\n",
       "    <tr>\n",
       "      <th>28</th>\n",
       "      <td>Honda CB Hornet 160R</td>\n",
       "      <td>2017</td>\n",
       "      <td>0.80</td>\n",
       "      <td>0.87</td>\n",
       "      <td>3000</td>\n",
       "      <td>Petrol</td>\n",
       "      <td>Individual</td>\n",
       "      <td>Manual</td>\n",
       "      <td>0</td>\n",
       "      <td>0.07</td>\n",
       "      <td>7</td>\n",
       "    </tr>\n",
       "    <tr>\n",
       "      <th>29</th>\n",
       "      <td>Yamaha FZ S V 2.0</td>\n",
       "      <td>2017</td>\n",
       "      <td>0.78</td>\n",
       "      <td>0.84</td>\n",
       "      <td>5000</td>\n",
       "      <td>Petrol</td>\n",
       "      <td>Individual</td>\n",
       "      <td>Manual</td>\n",
       "      <td>0</td>\n",
       "      <td>0.06</td>\n",
       "      <td>7</td>\n",
       "    </tr>\n",
       "    <tr>\n",
       "      <th>30</th>\n",
       "      <td>Honda CB Hornet 160R</td>\n",
       "      <td>2017</td>\n",
       "      <td>0.75</td>\n",
       "      <td>0.87</td>\n",
       "      <td>11000</td>\n",
       "      <td>Petrol</td>\n",
       "      <td>Individual</td>\n",
       "      <td>Manual</td>\n",
       "      <td>0</td>\n",
       "      <td>0.12</td>\n",
       "      <td>7</td>\n",
       "    </tr>\n",
       "    <tr>\n",
       "      <th>32</th>\n",
       "      <td>Bajaj Avenger 220</td>\n",
       "      <td>2017</td>\n",
       "      <td>0.75</td>\n",
       "      <td>0.95</td>\n",
       "      <td>3500</td>\n",
       "      <td>Petrol</td>\n",
       "      <td>Individual</td>\n",
       "      <td>Manual</td>\n",
       "      <td>0</td>\n",
       "      <td>0.20</td>\n",
       "      <td>7</td>\n",
       "    </tr>\n",
       "    <tr>\n",
       "      <th>34</th>\n",
       "      <td>TVS Apache RTR 160</td>\n",
       "      <td>2017</td>\n",
       "      <td>0.65</td>\n",
       "      <td>0.81</td>\n",
       "      <td>11800</td>\n",
       "      <td>Petrol</td>\n",
       "      <td>Individual</td>\n",
       "      <td>Manual</td>\n",
       "      <td>0</td>\n",
       "      <td>0.16</td>\n",
       "      <td>7</td>\n",
       "    </tr>\n",
       "    <tr>\n",
       "      <th>55</th>\n",
       "      <td>Honda Activa 4G</td>\n",
       "      <td>2017</td>\n",
       "      <td>0.48</td>\n",
       "      <td>0.51</td>\n",
       "      <td>4300</td>\n",
       "      <td>Petrol</td>\n",
       "      <td>Individual</td>\n",
       "      <td>Automatic</td>\n",
       "      <td>0</td>\n",
       "      <td>0.03</td>\n",
       "      <td>7</td>\n",
       "    </tr>\n",
       "    <tr>\n",
       "      <th>56</th>\n",
       "      <td>TVS Sport</td>\n",
       "      <td>2017</td>\n",
       "      <td>0.48</td>\n",
       "      <td>0.52</td>\n",
       "      <td>15000</td>\n",
       "      <td>Petrol</td>\n",
       "      <td>Individual</td>\n",
       "      <td>Manual</td>\n",
       "      <td>0</td>\n",
       "      <td>0.04</td>\n",
       "      <td>7</td>\n",
       "    </tr>\n",
       "    <tr>\n",
       "      <th>58</th>\n",
       "      <td>Honda Dream Yuga</td>\n",
       "      <td>2017</td>\n",
       "      <td>0.48</td>\n",
       "      <td>0.54</td>\n",
       "      <td>8600</td>\n",
       "      <td>Petrol</td>\n",
       "      <td>Individual</td>\n",
       "      <td>Manual</td>\n",
       "      <td>0</td>\n",
       "      <td>0.06</td>\n",
       "      <td>7</td>\n",
       "    </tr>\n",
       "    <tr>\n",
       "      <th>59</th>\n",
       "      <td>Honda Activa 4G</td>\n",
       "      <td>2017</td>\n",
       "      <td>0.45</td>\n",
       "      <td>0.51</td>\n",
       "      <td>4000</td>\n",
       "      <td>Petrol</td>\n",
       "      <td>Individual</td>\n",
       "      <td>Automatic</td>\n",
       "      <td>0</td>\n",
       "      <td>0.06</td>\n",
       "      <td>7</td>\n",
       "    </tr>\n",
       "    <tr>\n",
       "      <th>73</th>\n",
       "      <td>Activa 4g</td>\n",
       "      <td>2017</td>\n",
       "      <td>0.40</td>\n",
       "      <td>0.51</td>\n",
       "      <td>1300</td>\n",
       "      <td>Petrol</td>\n",
       "      <td>Individual</td>\n",
       "      <td>Automatic</td>\n",
       "      <td>0</td>\n",
       "      <td>0.11</td>\n",
       "      <td>7</td>\n",
       "    </tr>\n",
       "  </tbody>\n",
       "</table>\n",
       "</div>"
      ],
      "text/plain": [
       "                     Car_Name  Year  Selling_Price  Present_Price  Kms_Driven  \\\n",
       "1          UM Renegade Mojave  2017           1.70           1.82        1400   \n",
       "2                   KTM RC200  2017           1.65           1.78        4000   \n",
       "3           Bajaj Dominar 400  2017           1.45           1.60        1200   \n",
       "4   Royal Enfield Classic 350  2017           1.35           1.47        4100   \n",
       "9   Royal Enfield Classic 350  2017           1.20           1.47       11000   \n",
       "26          Bajaj Avenger 220  2017           0.90           0.95        1300   \n",
       "28       Honda CB Hornet 160R  2017           0.80           0.87        3000   \n",
       "29          Yamaha FZ S V 2.0  2017           0.78           0.84        5000   \n",
       "30       Honda CB Hornet 160R  2017           0.75           0.87       11000   \n",
       "32          Bajaj Avenger 220  2017           0.75           0.95        3500   \n",
       "34         TVS Apache RTR 160  2017           0.65           0.81       11800   \n",
       "55            Honda Activa 4G  2017           0.48           0.51        4300   \n",
       "56                 TVS Sport   2017           0.48           0.52       15000   \n",
       "58          Honda Dream Yuga   2017           0.48           0.54        8600   \n",
       "59            Honda Activa 4G  2017           0.45           0.51        4000   \n",
       "73                  Activa 4g  2017           0.40           0.51        1300   \n",
       "\n",
       "   Fuel_Type Seller_Type Transmission  Owner  Depreciation  vehicle_age  \n",
       "1     Petrol  Individual       Manual      0          0.12            7  \n",
       "2     Petrol  Individual       Manual      0          0.13            7  \n",
       "3     Petrol  Individual       Manual      0          0.15            7  \n",
       "4     Petrol  Individual       Manual      0          0.12            7  \n",
       "9     Petrol  Individual       Manual      0          0.27            7  \n",
       "26    Petrol  Individual       Manual      0          0.05            7  \n",
       "28    Petrol  Individual       Manual      0          0.07            7  \n",
       "29    Petrol  Individual       Manual      0          0.06            7  \n",
       "30    Petrol  Individual       Manual      0          0.12            7  \n",
       "32    Petrol  Individual       Manual      0          0.20            7  \n",
       "34    Petrol  Individual       Manual      0          0.16            7  \n",
       "55    Petrol  Individual    Automatic      0          0.03            7  \n",
       "56    Petrol  Individual       Manual      0          0.04            7  \n",
       "58    Petrol  Individual       Manual      0          0.06            7  \n",
       "59    Petrol  Individual    Automatic      0          0.06            7  \n",
       "73    Petrol  Individual    Automatic      0          0.11            7  "
      ]
     },
     "execution_count": 60,
     "metadata": {},
     "output_type": "execute_result"
    }
   ],
   "source": [
    "two_wheelers.loc[two_wheelers.Year == two_wheelers.Year.max()]"
   ]
  },
  {
   "cell_type": "markdown",
   "id": "09d40e0b",
   "metadata": {},
   "source": [
    "shows the newest bikes"
   ]
  },
  {
   "cell_type": "code",
   "execution_count": 62,
   "id": "49462304",
   "metadata": {
    "scrolled": true
   },
   "outputs": [
    {
     "data": {
      "text/html": [
       "<div>\n",
       "<style scoped>\n",
       "    .dataframe tbody tr th:only-of-type {\n",
       "        vertical-align: middle;\n",
       "    }\n",
       "\n",
       "    .dataframe tbody tr th {\n",
       "        vertical-align: top;\n",
       "    }\n",
       "\n",
       "    .dataframe thead th {\n",
       "        text-align: right;\n",
       "    }\n",
       "</style>\n",
       "<table border=\"1\" class=\"dataframe\">\n",
       "  <thead>\n",
       "    <tr style=\"text-align: right;\">\n",
       "      <th></th>\n",
       "      <th>Car_Name</th>\n",
       "      <th>Year</th>\n",
       "      <th>Selling_Price</th>\n",
       "      <th>Present_Price</th>\n",
       "      <th>Kms_Driven</th>\n",
       "      <th>Fuel_Type</th>\n",
       "      <th>Seller_Type</th>\n",
       "      <th>Transmission</th>\n",
       "      <th>Owner</th>\n",
       "      <th>Depreciation</th>\n",
       "      <th>vehicle_age</th>\n",
       "    </tr>\n",
       "  </thead>\n",
       "  <tbody>\n",
       "    <tr>\n",
       "      <th>89</th>\n",
       "      <td>Hero Super Splendor</td>\n",
       "      <td>2005</td>\n",
       "      <td>0.2</td>\n",
       "      <td>0.57</td>\n",
       "      <td>55000</td>\n",
       "      <td>Petrol</td>\n",
       "      <td>Individual</td>\n",
       "      <td>Manual</td>\n",
       "      <td>0</td>\n",
       "      <td>0.37</td>\n",
       "      <td>19</td>\n",
       "    </tr>\n",
       "  </tbody>\n",
       "</table>\n",
       "</div>"
      ],
      "text/plain": [
       "               Car_Name  Year  Selling_Price  Present_Price  Kms_Driven  \\\n",
       "89  Hero Super Splendor  2005            0.2           0.57       55000   \n",
       "\n",
       "   Fuel_Type Seller_Type Transmission  Owner  Depreciation  vehicle_age  \n",
       "89    Petrol  Individual       Manual      0          0.37           19  "
      ]
     },
     "execution_count": 62,
     "metadata": {},
     "output_type": "execute_result"
    }
   ],
   "source": [
    "two_wheelers.loc[two_wheelers.Year == two_wheelers.Year.min()]"
   ]
  },
  {
   "cell_type": "markdown",
   "id": "80c1d97d",
   "metadata": {},
   "source": [
    "shows the oldest bike"
   ]
  },
  {
   "cell_type": "markdown",
   "id": "f7753910",
   "metadata": {},
   "source": [
    "# 19)Which is the most sold bike here?\n"
   ]
  },
  {
   "cell_type": "code",
   "execution_count": 65,
   "id": "c4947f4d",
   "metadata": {},
   "outputs": [
    {
     "data": {
      "text/plain": [
       "Car_Name\n",
       "Royal Enfield Classic 350    7\n",
       "Bajaj Pulsar 150             4\n",
       "Royal Enfield Thunder 350    4\n",
       "Bajaj Pulsar NS 200          3\n",
       "TVS Apache RTR 160           3\n",
       "                            ..\n",
       "TVS Sport                    1\n",
       "Honda Dream Yuga             1\n",
       "Bajaj Avenger Street 220     1\n",
       "Honda CB Trigger             1\n",
       "Bajaj  ct 100                1\n",
       "Name: count, Length: 61, dtype: int64"
      ]
     },
     "execution_count": 65,
     "metadata": {},
     "output_type": "execute_result"
    }
   ],
   "source": [
    "two_wheelers ['Car_Name'].value_counts()\n"
   ]
  },
  {
   "cell_type": "code",
   "execution_count": null,
   "id": "9e017580",
   "metadata": {},
   "outputs": [],
   "source": []
  },
  {
   "cell_type": "code",
   "execution_count": null,
   "id": "536ce117",
   "metadata": {},
   "outputs": [],
   "source": []
  },
  {
   "cell_type": "markdown",
   "id": "b417bb20",
   "metadata": {},
   "source": [
    "# 20)Do you find any deal in two wheelers which exceeded the general expectation ? Can you find reason for it ?\n"
   ]
  },
  {
   "cell_type": "code",
   "execution_count": 63,
   "id": "396c10ef",
   "metadata": {},
   "outputs": [
    {
     "data": {
      "image/png": "[encoded data removed]",
      "text/plain": [
       "<Figure size 640x480 with 1 Axes>"
      ]
     },
     "metadata": {},
     "output_type": "display_data"
    }
   ],
   "source": [
    "plt.boxplot(two_wheelers.Selling_Price)\n",
    "plt.show()"
   ]
  },
  {
   "cell_type": "code",
   "execution_count": 9,
   "id": "843a78df",
   "metadata": {},
   "outputs": [
    {
     "data": {
      "text/html": [
       "<div>\n",
       "<style scoped>\n",
       "    .dataframe tbody tr th:only-of-type {\n",
       "        vertical-align: middle;\n",
       "    }\n",
       "\n",
       "    .dataframe tbody tr th {\n",
       "        vertical-align: top;\n",
       "    }\n",
       "\n",
       "    .dataframe thead th {\n",
       "        text-align: right;\n",
       "    }\n",
       "</style>\n",
       "<table border=\"1\" class=\"dataframe\">\n",
       "  <thead>\n",
       "    <tr style=\"text-align: right;\">\n",
       "      <th></th>\n",
       "      <th>Car_Name</th>\n",
       "      <th>Year</th>\n",
       "      <th>Selling_Price</th>\n",
       "      <th>Present_Price</th>\n",
       "      <th>Kms_Driven</th>\n",
       "      <th>Fuel_Type</th>\n",
       "      <th>Seller_Type</th>\n",
       "      <th>Transmission</th>\n",
       "      <th>Owner</th>\n",
       "    </tr>\n",
       "  </thead>\n",
       "  <tbody>\n",
       "    <tr>\n",
       "      <th>0</th>\n",
       "      <td>Royal Enfield Thunder 500</td>\n",
       "      <td>2016</td>\n",
       "      <td>1.75</td>\n",
       "      <td>1.90</td>\n",
       "      <td>3000</td>\n",
       "      <td>Petrol</td>\n",
       "      <td>Individual</td>\n",
       "      <td>Manual</td>\n",
       "      <td>0</td>\n",
       "    </tr>\n",
       "    <tr>\n",
       "      <th>1</th>\n",
       "      <td>UM Renegade Mojave</td>\n",
       "      <td>2017</td>\n",
       "      <td>1.70</td>\n",
       "      <td>1.82</td>\n",
       "      <td>1400</td>\n",
       "      <td>Petrol</td>\n",
       "      <td>Individual</td>\n",
       "      <td>Manual</td>\n",
       "      <td>0</td>\n",
       "    </tr>\n",
       "    <tr>\n",
       "      <th>2</th>\n",
       "      <td>KTM RC200</td>\n",
       "      <td>2017</td>\n",
       "      <td>1.65</td>\n",
       "      <td>1.78</td>\n",
       "      <td>4000</td>\n",
       "      <td>Petrol</td>\n",
       "      <td>Individual</td>\n",
       "      <td>Manual</td>\n",
       "      <td>0</td>\n",
       "    </tr>\n",
       "  </tbody>\n",
       "</table>\n",
       "</div>"
      ],
      "text/plain": [
       "                    Car_Name  Year  Selling_Price  Present_Price  Kms_Driven  \\\n",
       "0  Royal Enfield Thunder 500  2016           1.75           1.90        3000   \n",
       "1         UM Renegade Mojave  2017           1.70           1.82        1400   \n",
       "2                  KTM RC200  2017           1.65           1.78        4000   \n",
       "\n",
       "  Fuel_Type Seller_Type Transmission  Owner  \n",
       "0    Petrol  Individual       Manual      0  \n",
       "1    Petrol  Individual       Manual      0  \n",
       "2    Petrol  Individual       Manual      0  "
      ]
     },
     "execution_count": 9,
     "metadata": {},
     "output_type": "execute_result"
    }
   ],
   "source": [
    "two_wheelers[two_wheelers.Selling_Price>1.6]"
   ]
  },
  {
   "cell_type": "code",
   "execution_count": 67,
   "id": "e804953b",
   "metadata": {},
   "outputs": [
    {
     "data": {
      "text/plain": [
       "<Axes: xlabel='count', ylabel='Car_Name'>"
      ]
     },
     "execution_count": 67,
     "metadata": {},
     "output_type": "execute_result"
    },
    {
     "data": {
      "image/png": "[encoded data removed]",
      "text/plain": [
       "<Figure size 1200x2000 with 1 Axes>"
      ]
     },
     "metadata": {},
     "output_type": "display_data"
    }
   ],
   "source": [
    "import matplotlib.pyplot as plt\n",
    "import seaborn as sns\n",
    "fig_dims = (12,20)\n",
    "fig ,ax = plt.subplots(figsize = fig_dims)\n",
    "sns.countplot(y = two_wheelers.Car_Name,ax = ax ,data = two_wheelers)\n"
   ]
  },
  {
   "cell_type": "markdown",
   "id": "144b1f24",
   "metadata": {},
   "source": [
    "# 21)Can we find out data of only cars from this data ?\n"
   ]
  },
  {
   "cell_type": "code",
   "execution_count": 74,
   "id": "86053f12",
   "metadata": {},
   "outputs": [
    {
     "name": "stdout",
     "output_type": "stream",
     "text": [
      "  Car_Name  Year  Selling_Price  Present_Price  Kms_Driven Fuel_Type  \\\n",
      "0     ritz  2014           3.35           5.59       27000    Petrol   \n",
      "1      sx4  2013           4.75           9.54       43000    Diesel   \n",
      "2     ciaz  2017           7.25           9.85        6900    Petrol   \n",
      "3  wagon r  2011           2.85           4.15        5200    Petrol   \n",
      "4    swift  2014           4.60           6.87       42450    Diesel   \n",
      "\n",
      "  Seller_Type Transmission  Owner  Depreciation  vehicle_age  \n",
      "0      Dealer       Manual      0          2.24           10  \n",
      "1      Dealer       Manual      0          4.79           11  \n",
      "2      Dealer       Manual      0          2.60            7  \n",
      "3      Dealer       Manual      0          1.30           13  \n",
      "4      Dealer       Manual      0          2.27           10  \n"
     ]
    }
   ],
   "source": [
    "four_wheelers = df[df[\"Present_Price\"]>=3.5]\n",
    "print(four_wheelers.head())"
   ]
  },
  {
   "cell_type": "code",
   "execution_count": 75,
   "id": "75dd5d03",
   "metadata": {},
   "outputs": [
    {
     "data": {
      "text/html": [
       "<div>\n",
       "<style scoped>\n",
       "    .dataframe tbody tr th:only-of-type {\n",
       "        vertical-align: middle;\n",
       "    }\n",
       "\n",
       "    .dataframe tbody tr th {\n",
       "        vertical-align: top;\n",
       "    }\n",
       "\n",
       "    .dataframe thead th {\n",
       "        text-align: right;\n",
       "    }\n",
       "</style>\n",
       "<table border=\"1\" class=\"dataframe\">\n",
       "  <thead>\n",
       "    <tr style=\"text-align: right;\">\n",
       "      <th></th>\n",
       "      <th>Car_Name</th>\n",
       "      <th>Year</th>\n",
       "      <th>Selling_Price</th>\n",
       "      <th>Present_Price</th>\n",
       "      <th>Kms_Driven</th>\n",
       "      <th>Fuel_Type</th>\n",
       "      <th>Seller_Type</th>\n",
       "      <th>Transmission</th>\n",
       "      <th>Owner</th>\n",
       "      <th>Depreciation</th>\n",
       "      <th>vehicle_age</th>\n",
       "    </tr>\n",
       "  </thead>\n",
       "  <tbody>\n",
       "    <tr>\n",
       "      <th>0</th>\n",
       "      <td>ritz</td>\n",
       "      <td>2014</td>\n",
       "      <td>3.35</td>\n",
       "      <td>5.59</td>\n",
       "      <td>27000</td>\n",
       "      <td>Petrol</td>\n",
       "      <td>Dealer</td>\n",
       "      <td>Manual</td>\n",
       "      <td>0</td>\n",
       "      <td>2.24</td>\n",
       "      <td>10</td>\n",
       "    </tr>\n",
       "    <tr>\n",
       "      <th>1</th>\n",
       "      <td>sx4</td>\n",
       "      <td>2013</td>\n",
       "      <td>4.75</td>\n",
       "      <td>9.54</td>\n",
       "      <td>43000</td>\n",
       "      <td>Diesel</td>\n",
       "      <td>Dealer</td>\n",
       "      <td>Manual</td>\n",
       "      <td>0</td>\n",
       "      <td>4.79</td>\n",
       "      <td>11</td>\n",
       "    </tr>\n",
       "    <tr>\n",
       "      <th>2</th>\n",
       "      <td>ciaz</td>\n",
       "      <td>2017</td>\n",
       "      <td>7.25</td>\n",
       "      <td>9.85</td>\n",
       "      <td>6900</td>\n",
       "      <td>Petrol</td>\n",
       "      <td>Dealer</td>\n",
       "      <td>Manual</td>\n",
       "      <td>0</td>\n",
       "      <td>2.60</td>\n",
       "      <td>7</td>\n",
       "    </tr>\n",
       "    <tr>\n",
       "      <th>3</th>\n",
       "      <td>wagon r</td>\n",
       "      <td>2011</td>\n",
       "      <td>2.85</td>\n",
       "      <td>4.15</td>\n",
       "      <td>5200</td>\n",
       "      <td>Petrol</td>\n",
       "      <td>Dealer</td>\n",
       "      <td>Manual</td>\n",
       "      <td>0</td>\n",
       "      <td>1.30</td>\n",
       "      <td>13</td>\n",
       "    </tr>\n",
       "    <tr>\n",
       "      <th>4</th>\n",
       "      <td>swift</td>\n",
       "      <td>2014</td>\n",
       "      <td>4.60</td>\n",
       "      <td>6.87</td>\n",
       "      <td>42450</td>\n",
       "      <td>Diesel</td>\n",
       "      <td>Dealer</td>\n",
       "      <td>Manual</td>\n",
       "      <td>0</td>\n",
       "      <td>2.27</td>\n",
       "      <td>10</td>\n",
       "    </tr>\n",
       "  </tbody>\n",
       "</table>\n",
       "</div>"
      ],
      "text/plain": [
       "  Car_Name  Year  Selling_Price  Present_Price  Kms_Driven Fuel_Type  \\\n",
       "0     ritz  2014           3.35           5.59       27000    Petrol   \n",
       "1      sx4  2013           4.75           9.54       43000    Diesel   \n",
       "2     ciaz  2017           7.25           9.85        6900    Petrol   \n",
       "3  wagon r  2011           2.85           4.15        5200    Petrol   \n",
       "4    swift  2014           4.60           6.87       42450    Diesel   \n",
       "\n",
       "  Seller_Type Transmission  Owner  Depreciation  vehicle_age  \n",
       "0      Dealer       Manual      0          2.24           10  \n",
       "1      Dealer       Manual      0          4.79           11  \n",
       "2      Dealer       Manual      0          2.60            7  \n",
       "3      Dealer       Manual      0          1.30           13  \n",
       "4      Dealer       Manual      0          2.27           10  "
      ]
     },
     "execution_count": 75,
     "metadata": {},
     "output_type": "execute_result"
    }
   ],
   "source": [
    "four_wheelers.head()"
   ]
  },
  {
   "cell_type": "code",
   "execution_count": 73,
   "id": "6dca1ee0",
   "metadata": {},
   "outputs": [
    {
     "data": {
      "text/html": [
       "<div>\n",
       "<style scoped>\n",
       "    .dataframe tbody tr th:only-of-type {\n",
       "        vertical-align: middle;\n",
       "    }\n",
       "\n",
       "    .dataframe tbody tr th {\n",
       "        vertical-align: top;\n",
       "    }\n",
       "\n",
       "    .dataframe thead th {\n",
       "        text-align: right;\n",
       "    }\n",
       "</style>\n",
       "<table border=\"1\" class=\"dataframe\">\n",
       "  <thead>\n",
       "    <tr style=\"text-align: right;\">\n",
       "      <th></th>\n",
       "      <th>Car_Name</th>\n",
       "      <th>Year</th>\n",
       "      <th>Selling_Price</th>\n",
       "      <th>Present_Price</th>\n",
       "      <th>Kms_Driven</th>\n",
       "      <th>Fuel_Type</th>\n",
       "      <th>Seller_Type</th>\n",
       "      <th>Transmission</th>\n",
       "      <th>Owner</th>\n",
       "      <th>Depreciation</th>\n",
       "      <th>vehicle_age</th>\n",
       "    </tr>\n",
       "  </thead>\n",
       "  <tbody>\n",
       "  </tbody>\n",
       "</table>\n",
       "</div>"
      ],
      "text/plain": [
       "Empty DataFrame\n",
       "Columns: [Car_Name, Year, Selling_Price, Present_Price, Kms_Driven, Fuel_Type, Seller_Type, Transmission, Owner, Depreciation, vehicle_age]\n",
       "Index: []"
      ]
     },
     "execution_count": 73,
     "metadata": {},
     "output_type": "execute_result"
    }
   ],
   "source": []
  },
  {
   "cell_type": "markdown",
   "id": "2c3b7e5e",
   "metadata": {},
   "source": [
    "# 22)Which is the oldest car sold here?\n"
   ]
  },
  {
   "cell_type": "code",
   "execution_count": 77,
   "id": "dfe54426",
   "metadata": {},
   "outputs": [
    {
     "data": {
      "text/html": [
       "<div>\n",
       "<style scoped>\n",
       "    .dataframe tbody tr th:only-of-type {\n",
       "        vertical-align: middle;\n",
       "    }\n",
       "\n",
       "    .dataframe tbody tr th {\n",
       "        vertical-align: top;\n",
       "    }\n",
       "\n",
       "    .dataframe thead th {\n",
       "        text-align: right;\n",
       "    }\n",
       "</style>\n",
       "<table border=\"1\" class=\"dataframe\">\n",
       "  <thead>\n",
       "    <tr style=\"text-align: right;\">\n",
       "      <th></th>\n",
       "      <th>Car_Name</th>\n",
       "      <th>Year</th>\n",
       "      <th>Selling_Price</th>\n",
       "      <th>Present_Price</th>\n",
       "      <th>Kms_Driven</th>\n",
       "      <th>Fuel_Type</th>\n",
       "      <th>Seller_Type</th>\n",
       "      <th>Transmission</th>\n",
       "      <th>Owner</th>\n",
       "      <th>Depreciation</th>\n",
       "      <th>vehicle_age</th>\n",
       "    </tr>\n",
       "  </thead>\n",
       "  <tbody>\n",
       "    <tr>\n",
       "      <th>39</th>\n",
       "      <td>sx4</td>\n",
       "      <td>2003</td>\n",
       "      <td>2.25</td>\n",
       "      <td>7.98</td>\n",
       "      <td>62000</td>\n",
       "      <td>Petrol</td>\n",
       "      <td>Dealer</td>\n",
       "      <td>Manual</td>\n",
       "      <td>0</td>\n",
       "      <td>5.73</td>\n",
       "      <td>21</td>\n",
       "    </tr>\n",
       "  </tbody>\n",
       "</table>\n",
       "</div>"
      ],
      "text/plain": [
       "   Car_Name  Year  Selling_Price  Present_Price  Kms_Driven Fuel_Type  \\\n",
       "39      sx4  2003           2.25           7.98       62000    Petrol   \n",
       "\n",
       "   Seller_Type Transmission  Owner  Depreciation  vehicle_age  \n",
       "39      Dealer       Manual      0          5.73           21  "
      ]
     },
     "execution_count": 77,
     "metadata": {},
     "output_type": "execute_result"
    }
   ],
   "source": [
    "four_wheelers.loc[four_wheelers.Year == four_wheelers.Year.min()]"
   ]
  },
  {
   "cell_type": "markdown",
   "id": "f1ed87b3",
   "metadata": {},
   "source": [
    "# 23)Which is the newest car sold here?\n"
   ]
  },
  {
   "cell_type": "code",
   "execution_count": 78,
   "id": "8950588b",
   "metadata": {},
   "outputs": [
    {
     "data": {
      "text/html": [
       "<div>\n",
       "<style scoped>\n",
       "    .dataframe tbody tr th:only-of-type {\n",
       "        vertical-align: middle;\n",
       "    }\n",
       "\n",
       "    .dataframe tbody tr th {\n",
       "        vertical-align: top;\n",
       "    }\n",
       "\n",
       "    .dataframe thead th {\n",
       "        text-align: right;\n",
       "    }\n",
       "</style>\n",
       "<table border=\"1\" class=\"dataframe\">\n",
       "  <thead>\n",
       "    <tr style=\"text-align: right;\">\n",
       "      <th></th>\n",
       "      <th>Car_Name</th>\n",
       "      <th>Year</th>\n",
       "      <th>Selling_Price</th>\n",
       "      <th>Present_Price</th>\n",
       "      <th>Kms_Driven</th>\n",
       "      <th>Fuel_Type</th>\n",
       "      <th>Seller_Type</th>\n",
       "      <th>Transmission</th>\n",
       "      <th>Owner</th>\n",
       "      <th>Depreciation</th>\n",
       "      <th>vehicle_age</th>\n",
       "    </tr>\n",
       "  </thead>\n",
       "  <tbody>\n",
       "    <tr>\n",
       "      <th>5</th>\n",
       "      <td>vitara brezza</td>\n",
       "      <td>2018</td>\n",
       "      <td>9.25</td>\n",
       "      <td>9.83</td>\n",
       "      <td>2071</td>\n",
       "      <td>Diesel</td>\n",
       "      <td>Dealer</td>\n",
       "      <td>Manual</td>\n",
       "      <td>0</td>\n",
       "      <td>0.58</td>\n",
       "      <td>6</td>\n",
       "    </tr>\n",
       "  </tbody>\n",
       "</table>\n",
       "</div>"
      ],
      "text/plain": [
       "        Car_Name  Year  Selling_Price  Present_Price  Kms_Driven Fuel_Type  \\\n",
       "5  vitara brezza  2018           9.25           9.83        2071    Diesel   \n",
       "\n",
       "  Seller_Type Transmission  Owner  Depreciation  vehicle_age  \n",
       "5      Dealer       Manual      0          0.58            6  "
      ]
     },
     "execution_count": 78,
     "metadata": {},
     "output_type": "execute_result"
    }
   ],
   "source": [
    "four_wheelers.loc[four_wheelers.Year == four_wheelers.Year.max()]"
   ]
  },
  {
   "cell_type": "markdown",
   "id": "7c6864af",
   "metadata": {},
   "source": [
    "# 24)Do you find any deal in cars which exceeded the general expectation ? Can you find reason for it ?"
   ]
  },
  {
   "cell_type": "code",
   "execution_count": 79,
   "id": "2569a6ae",
   "metadata": {},
   "outputs": [
    {
     "data": {
      "image/png": "[encoded data removed]",
      "text/plain": [
       "<Figure size 640x480 with 1 Axes>"
      ]
     },
     "metadata": {},
     "output_type": "display_data"
    }
   ],
   "source": [
    "plt.boxplot(four_wheelers.Selling_Price)\n",
    "plt.show()"
   ]
  },
  {
   "cell_type": "code",
   "execution_count": 80,
   "id": "368d144f",
   "metadata": {},
   "outputs": [
    {
     "data": {
      "text/html": [
       "<div>\n",
       "<style scoped>\n",
       "    .dataframe tbody tr th:only-of-type {\n",
       "        vertical-align: middle;\n",
       "    }\n",
       "\n",
       "    .dataframe tbody tr th {\n",
       "        vertical-align: top;\n",
       "    }\n",
       "\n",
       "    .dataframe thead th {\n",
       "        text-align: right;\n",
       "    }\n",
       "</style>\n",
       "<table border=\"1\" class=\"dataframe\">\n",
       "  <thead>\n",
       "    <tr style=\"text-align: right;\">\n",
       "      <th></th>\n",
       "      <th>Car_Name</th>\n",
       "      <th>Year</th>\n",
       "      <th>Selling_Price</th>\n",
       "      <th>Present_Price</th>\n",
       "      <th>Kms_Driven</th>\n",
       "      <th>Fuel_Type</th>\n",
       "      <th>Seller_Type</th>\n",
       "      <th>Transmission</th>\n",
       "      <th>Owner</th>\n",
       "      <th>Depreciation</th>\n",
       "      <th>vehicle_age</th>\n",
       "    </tr>\n",
       "  </thead>\n",
       "  <tbody>\n",
       "    <tr>\n",
       "      <th>50</th>\n",
       "      <td>fortuner</td>\n",
       "      <td>2012</td>\n",
       "      <td>14.90</td>\n",
       "      <td>30.61</td>\n",
       "      <td>104707</td>\n",
       "      <td>Diesel</td>\n",
       "      <td>Dealer</td>\n",
       "      <td>Automatic</td>\n",
       "      <td>0</td>\n",
       "      <td>15.71</td>\n",
       "      <td>12</td>\n",
       "    </tr>\n",
       "    <tr>\n",
       "      <th>51</th>\n",
       "      <td>fortuner</td>\n",
       "      <td>2015</td>\n",
       "      <td>23.00</td>\n",
       "      <td>30.61</td>\n",
       "      <td>40000</td>\n",
       "      <td>Diesel</td>\n",
       "      <td>Dealer</td>\n",
       "      <td>Automatic</td>\n",
       "      <td>0</td>\n",
       "      <td>7.61</td>\n",
       "      <td>9</td>\n",
       "    </tr>\n",
       "    <tr>\n",
       "      <th>52</th>\n",
       "      <td>innova</td>\n",
       "      <td>2017</td>\n",
       "      <td>18.00</td>\n",
       "      <td>19.77</td>\n",
       "      <td>15000</td>\n",
       "      <td>Diesel</td>\n",
       "      <td>Dealer</td>\n",
       "      <td>Automatic</td>\n",
       "      <td>0</td>\n",
       "      <td>1.77</td>\n",
       "      <td>7</td>\n",
       "    </tr>\n",
       "    <tr>\n",
       "      <th>53</th>\n",
       "      <td>fortuner</td>\n",
       "      <td>2013</td>\n",
       "      <td>16.00</td>\n",
       "      <td>30.61</td>\n",
       "      <td>135000</td>\n",
       "      <td>Diesel</td>\n",
       "      <td>Individual</td>\n",
       "      <td>Automatic</td>\n",
       "      <td>0</td>\n",
       "      <td>14.61</td>\n",
       "      <td>11</td>\n",
       "    </tr>\n",
       "    <tr>\n",
       "      <th>59</th>\n",
       "      <td>fortuner</td>\n",
       "      <td>2014</td>\n",
       "      <td>19.99</td>\n",
       "      <td>35.96</td>\n",
       "      <td>41000</td>\n",
       "      <td>Diesel</td>\n",
       "      <td>Dealer</td>\n",
       "      <td>Automatic</td>\n",
       "      <td>0</td>\n",
       "      <td>15.97</td>\n",
       "      <td>10</td>\n",
       "    </tr>\n",
       "    <tr>\n",
       "      <th>62</th>\n",
       "      <td>fortuner</td>\n",
       "      <td>2014</td>\n",
       "      <td>18.75</td>\n",
       "      <td>35.96</td>\n",
       "      <td>78000</td>\n",
       "      <td>Diesel</td>\n",
       "      <td>Dealer</td>\n",
       "      <td>Automatic</td>\n",
       "      <td>0</td>\n",
       "      <td>17.21</td>\n",
       "      <td>10</td>\n",
       "    </tr>\n",
       "    <tr>\n",
       "      <th>63</th>\n",
       "      <td>fortuner</td>\n",
       "      <td>2015</td>\n",
       "      <td>23.50</td>\n",
       "      <td>35.96</td>\n",
       "      <td>47000</td>\n",
       "      <td>Diesel</td>\n",
       "      <td>Dealer</td>\n",
       "      <td>Automatic</td>\n",
       "      <td>0</td>\n",
       "      <td>12.46</td>\n",
       "      <td>9</td>\n",
       "    </tr>\n",
       "    <tr>\n",
       "      <th>64</th>\n",
       "      <td>fortuner</td>\n",
       "      <td>2017</td>\n",
       "      <td>33.00</td>\n",
       "      <td>36.23</td>\n",
       "      <td>6000</td>\n",
       "      <td>Diesel</td>\n",
       "      <td>Dealer</td>\n",
       "      <td>Automatic</td>\n",
       "      <td>0</td>\n",
       "      <td>3.23</td>\n",
       "      <td>7</td>\n",
       "    </tr>\n",
       "    <tr>\n",
       "      <th>66</th>\n",
       "      <td>innova</td>\n",
       "      <td>2017</td>\n",
       "      <td>19.75</td>\n",
       "      <td>23.15</td>\n",
       "      <td>11000</td>\n",
       "      <td>Petrol</td>\n",
       "      <td>Dealer</td>\n",
       "      <td>Automatic</td>\n",
       "      <td>0</td>\n",
       "      <td>3.40</td>\n",
       "      <td>7</td>\n",
       "    </tr>\n",
       "    <tr>\n",
       "      <th>69</th>\n",
       "      <td>corolla altis</td>\n",
       "      <td>2016</td>\n",
       "      <td>14.25</td>\n",
       "      <td>20.91</td>\n",
       "      <td>12000</td>\n",
       "      <td>Petrol</td>\n",
       "      <td>Dealer</td>\n",
       "      <td>Manual</td>\n",
       "      <td>0</td>\n",
       "      <td>6.66</td>\n",
       "      <td>8</td>\n",
       "    </tr>\n",
       "    <tr>\n",
       "      <th>79</th>\n",
       "      <td>fortuner</td>\n",
       "      <td>2012</td>\n",
       "      <td>14.50</td>\n",
       "      <td>30.61</td>\n",
       "      <td>89000</td>\n",
       "      <td>Diesel</td>\n",
       "      <td>Dealer</td>\n",
       "      <td>Automatic</td>\n",
       "      <td>0</td>\n",
       "      <td>16.11</td>\n",
       "      <td>12</td>\n",
       "    </tr>\n",
       "    <tr>\n",
       "      <th>80</th>\n",
       "      <td>corolla altis</td>\n",
       "      <td>2016</td>\n",
       "      <td>14.73</td>\n",
       "      <td>14.89</td>\n",
       "      <td>23000</td>\n",
       "      <td>Diesel</td>\n",
       "      <td>Dealer</td>\n",
       "      <td>Manual</td>\n",
       "      <td>0</td>\n",
       "      <td>0.16</td>\n",
       "      <td>8</td>\n",
       "    </tr>\n",
       "    <tr>\n",
       "      <th>82</th>\n",
       "      <td>innova</td>\n",
       "      <td>2017</td>\n",
       "      <td>23.00</td>\n",
       "      <td>25.39</td>\n",
       "      <td>15000</td>\n",
       "      <td>Diesel</td>\n",
       "      <td>Dealer</td>\n",
       "      <td>Automatic</td>\n",
       "      <td>0</td>\n",
       "      <td>2.39</td>\n",
       "      <td>7</td>\n",
       "    </tr>\n",
       "    <tr>\n",
       "      <th>83</th>\n",
       "      <td>innova</td>\n",
       "      <td>2015</td>\n",
       "      <td>12.50</td>\n",
       "      <td>13.46</td>\n",
       "      <td>38000</td>\n",
       "      <td>Diesel</td>\n",
       "      <td>Dealer</td>\n",
       "      <td>Manual</td>\n",
       "      <td>0</td>\n",
       "      <td>0.96</td>\n",
       "      <td>9</td>\n",
       "    </tr>\n",
       "    <tr>\n",
       "      <th>86</th>\n",
       "      <td>land cruiser</td>\n",
       "      <td>2010</td>\n",
       "      <td>35.00</td>\n",
       "      <td>92.60</td>\n",
       "      <td>78000</td>\n",
       "      <td>Diesel</td>\n",
       "      <td>Dealer</td>\n",
       "      <td>Manual</td>\n",
       "      <td>0</td>\n",
       "      <td>57.60</td>\n",
       "      <td>14</td>\n",
       "    </tr>\n",
       "    <tr>\n",
       "      <th>91</th>\n",
       "      <td>innova</td>\n",
       "      <td>2014</td>\n",
       "      <td>11.25</td>\n",
       "      <td>16.09</td>\n",
       "      <td>58242</td>\n",
       "      <td>Diesel</td>\n",
       "      <td>Dealer</td>\n",
       "      <td>Manual</td>\n",
       "      <td>0</td>\n",
       "      <td>4.84</td>\n",
       "      <td>10</td>\n",
       "    </tr>\n",
       "    <tr>\n",
       "      <th>93</th>\n",
       "      <td>fortuner</td>\n",
       "      <td>2015</td>\n",
       "      <td>23.00</td>\n",
       "      <td>30.61</td>\n",
       "      <td>40000</td>\n",
       "      <td>Diesel</td>\n",
       "      <td>Dealer</td>\n",
       "      <td>Automatic</td>\n",
       "      <td>0</td>\n",
       "      <td>7.61</td>\n",
       "      <td>9</td>\n",
       "    </tr>\n",
       "    <tr>\n",
       "      <th>96</th>\n",
       "      <td>innova</td>\n",
       "      <td>2016</td>\n",
       "      <td>20.75</td>\n",
       "      <td>25.39</td>\n",
       "      <td>29000</td>\n",
       "      <td>Diesel</td>\n",
       "      <td>Dealer</td>\n",
       "      <td>Automatic</td>\n",
       "      <td>0</td>\n",
       "      <td>4.64</td>\n",
       "      <td>8</td>\n",
       "    </tr>\n",
       "    <tr>\n",
       "      <th>97</th>\n",
       "      <td>corolla altis</td>\n",
       "      <td>2017</td>\n",
       "      <td>17.00</td>\n",
       "      <td>18.64</td>\n",
       "      <td>8700</td>\n",
       "      <td>Petrol</td>\n",
       "      <td>Dealer</td>\n",
       "      <td>Manual</td>\n",
       "      <td>0</td>\n",
       "      <td>1.64</td>\n",
       "      <td>7</td>\n",
       "    </tr>\n",
       "    <tr>\n",
       "      <th>211</th>\n",
       "      <td>elantra</td>\n",
       "      <td>2015</td>\n",
       "      <td>11.75</td>\n",
       "      <td>14.79</td>\n",
       "      <td>43535</td>\n",
       "      <td>Diesel</td>\n",
       "      <td>Dealer</td>\n",
       "      <td>Manual</td>\n",
       "      <td>0</td>\n",
       "      <td>3.04</td>\n",
       "      <td>9</td>\n",
       "    </tr>\n",
       "    <tr>\n",
       "      <th>212</th>\n",
       "      <td>creta</td>\n",
       "      <td>2016</td>\n",
       "      <td>11.25</td>\n",
       "      <td>13.60</td>\n",
       "      <td>22671</td>\n",
       "      <td>Petrol</td>\n",
       "      <td>Dealer</td>\n",
       "      <td>Manual</td>\n",
       "      <td>0</td>\n",
       "      <td>2.35</td>\n",
       "      <td>8</td>\n",
       "    </tr>\n",
       "    <tr>\n",
       "      <th>232</th>\n",
       "      <td>elantra</td>\n",
       "      <td>2015</td>\n",
       "      <td>11.45</td>\n",
       "      <td>14.79</td>\n",
       "      <td>12900</td>\n",
       "      <td>Petrol</td>\n",
       "      <td>Dealer</td>\n",
       "      <td>Automatic</td>\n",
       "      <td>0</td>\n",
       "      <td>3.34</td>\n",
       "      <td>9</td>\n",
       "    </tr>\n",
       "    <tr>\n",
       "      <th>237</th>\n",
       "      <td>creta</td>\n",
       "      <td>2015</td>\n",
       "      <td>11.25</td>\n",
       "      <td>13.60</td>\n",
       "      <td>68000</td>\n",
       "      <td>Diesel</td>\n",
       "      <td>Dealer</td>\n",
       "      <td>Manual</td>\n",
       "      <td>0</td>\n",
       "      <td>2.35</td>\n",
       "      <td>9</td>\n",
       "    </tr>\n",
       "    <tr>\n",
       "      <th>250</th>\n",
       "      <td>creta</td>\n",
       "      <td>2016</td>\n",
       "      <td>12.90</td>\n",
       "      <td>13.60</td>\n",
       "      <td>35934</td>\n",
       "      <td>Diesel</td>\n",
       "      <td>Dealer</td>\n",
       "      <td>Manual</td>\n",
       "      <td>0</td>\n",
       "      <td>0.70</td>\n",
       "      <td>8</td>\n",
       "    </tr>\n",
       "    <tr>\n",
       "      <th>299</th>\n",
       "      <td>city</td>\n",
       "      <td>2017</td>\n",
       "      <td>11.50</td>\n",
       "      <td>12.50</td>\n",
       "      <td>9000</td>\n",
       "      <td>Diesel</td>\n",
       "      <td>Dealer</td>\n",
       "      <td>Manual</td>\n",
       "      <td>0</td>\n",
       "      <td>1.00</td>\n",
       "      <td>7</td>\n",
       "    </tr>\n",
       "  </tbody>\n",
       "</table>\n",
       "</div>"
      ],
      "text/plain": [
       "          Car_Name  Year  Selling_Price  Present_Price  Kms_Driven Fuel_Type  \\\n",
       "50        fortuner  2012          14.90          30.61      104707    Diesel   \n",
       "51        fortuner  2015          23.00          30.61       40000    Diesel   \n",
       "52          innova  2017          18.00          19.77       15000    Diesel   \n",
       "53        fortuner  2013          16.00          30.61      135000    Diesel   \n",
       "59        fortuner  2014          19.99          35.96       41000    Diesel   \n",
       "62        fortuner  2014          18.75          35.96       78000    Diesel   \n",
       "63        fortuner  2015          23.50          35.96       47000    Diesel   \n",
       "64        fortuner  2017          33.00          36.23        6000    Diesel   \n",
       "66          innova  2017          19.75          23.15       11000    Petrol   \n",
       "69   corolla altis  2016          14.25          20.91       12000    Petrol   \n",
       "79        fortuner  2012          14.50          30.61       89000    Diesel   \n",
       "80   corolla altis  2016          14.73          14.89       23000    Diesel   \n",
       "82          innova  2017          23.00          25.39       15000    Diesel   \n",
       "83          innova  2015          12.50          13.46       38000    Diesel   \n",
       "86    land cruiser  2010          35.00          92.60       78000    Diesel   \n",
       "91          innova  2014          11.25          16.09       58242    Diesel   \n",
       "93        fortuner  2015          23.00          30.61       40000    Diesel   \n",
       "96          innova  2016          20.75          25.39       29000    Diesel   \n",
       "97   corolla altis  2017          17.00          18.64        8700    Petrol   \n",
       "211        elantra  2015          11.75          14.79       43535    Diesel   \n",
       "212          creta  2016          11.25          13.60       22671    Petrol   \n",
       "232        elantra  2015          11.45          14.79       12900    Petrol   \n",
       "237          creta  2015          11.25          13.60       68000    Diesel   \n",
       "250          creta  2016          12.90          13.60       35934    Diesel   \n",
       "299           city  2017          11.50          12.50        9000    Diesel   \n",
       "\n",
       "    Seller_Type Transmission  Owner  Depreciation  vehicle_age  \n",
       "50       Dealer    Automatic      0         15.71           12  \n",
       "51       Dealer    Automatic      0          7.61            9  \n",
       "52       Dealer    Automatic      0          1.77            7  \n",
       "53   Individual    Automatic      0         14.61           11  \n",
       "59       Dealer    Automatic      0         15.97           10  \n",
       "62       Dealer    Automatic      0         17.21           10  \n",
       "63       Dealer    Automatic      0         12.46            9  \n",
       "64       Dealer    Automatic      0          3.23            7  \n",
       "66       Dealer    Automatic      0          3.40            7  \n",
       "69       Dealer       Manual      0          6.66            8  \n",
       "79       Dealer    Automatic      0         16.11           12  \n",
       "80       Dealer       Manual      0          0.16            8  \n",
       "82       Dealer    Automatic      0          2.39            7  \n",
       "83       Dealer       Manual      0          0.96            9  \n",
       "86       Dealer       Manual      0         57.60           14  \n",
       "91       Dealer       Manual      0          4.84           10  \n",
       "93       Dealer    Automatic      0          7.61            9  \n",
       "96       Dealer    Automatic      0          4.64            8  \n",
       "97       Dealer       Manual      0          1.64            7  \n",
       "211      Dealer       Manual      0          3.04            9  \n",
       "212      Dealer       Manual      0          2.35            8  \n",
       "232      Dealer    Automatic      0          3.34            9  \n",
       "237      Dealer       Manual      0          2.35            9  \n",
       "250      Dealer       Manual      0          0.70            8  \n",
       "299      Dealer       Manual      0          1.00            7  "
      ]
     },
     "execution_count": 80,
     "metadata": {},
     "output_type": "execute_result"
    }
   ],
   "source": [
    "four_wheelers[four_wheelers.Selling_Price>11]"
   ]
  },
  {
   "cell_type": "code",
   "execution_count": null,
   "id": "a0b969ce",
   "metadata": {},
   "outputs": [],
   "source": []
  }
 ],
 "metadata": {
  "kernelspec": {
   "display_name": "Python 3 (ipykernel)",
   "language": "python",
   "name": "python3"
  },
  "language_info": {
   "codemirror_mode": {
    "name": "ipython",
    "version": 3
   },
   "file_extension": ".py",
   "mimetype": "text/x-python",
   "name": "python",
   "nbconvert_exporter": "python",
   "pygments_lexer": "ipython3",
   "version": "3.11.5"
  }
 },
 "nbformat": 4,
 "nbformat_minor": 5
}
